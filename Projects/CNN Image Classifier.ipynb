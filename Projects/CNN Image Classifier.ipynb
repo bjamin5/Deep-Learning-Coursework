{
  "nbformat": 4,
  "nbformat_minor": 0,
  "metadata": {
    "accelerator": "GPU",
    "colab": {
      "name": "DL_Lab3 (2).ipynb",
      "provenance": [],
      "collapsed_sections": []
    },
    "kernelspec": {
      "display_name": "Python 3",
      "language": "python",
      "name": "python3"
    },
    "language_info": {
      "codemirror_mode": {
        "name": "ipython",
        "version": 3
      },
      "file_extension": ".py",
      "mimetype": "text/x-python",
      "name": "python",
      "nbconvert_exporter": "python",
      "pygments_lexer": "ipython3",
      "version": "3.7.1"
    },
    "pycharm": {
      "stem_cell": {
        "cell_type": "raw",
        "metadata": {
          "collapsed": false
        },
        "source": []
      }
    }
  },
  "cells": [
    {
      "cell_type": "markdown",
      "metadata": {
        "id": "v-ygYBq64QUx"
      },
      "source": [
        "<a href=\"https://colab.research.google.com/github/wingated/cs474_labs_f2019/blob/master/DL_Lab3.ipynb\" target=\"_parent\"><img src=\"https://colab.research.google.com/assets/colab-badge.svg\" alt=\"Open In Colab\"/></a>"
      ]
    },
    {
      "cell_type": "markdown",
      "metadata": {
        "id": "view-in-github"
      },
      "source": [
        "# Lab 3: Intro to CNNs and DNNs\n",
        "\n",
        "## Objectives\n",
        "\n",
        "* Build and train a deep convolutional net\n",
        "* Explore and implement various initialization techniques\n",
        "* Implement a parameterized module in Pytorch\n",
        "* Use a principled loss function\n",
        "\n",
        "## Video Tutorial\n",
        "[https://youtu.be/3TAuTcx-VCc](https://youtu.be/3TAuTcx-VCc)\n",
        "\n",
        "## Deliverable\n",
        "For this lab, you will submit an IPython notebook via Learning Suite.\n",
        "This is where you build your first deep neural network!\n",
        "\n",
        "For this lab, we'll be combining several different concepts that we've covered during class,\n",
        "including new layer types, initialization strategies, and an understanding of convolutions.\n",
        "\n",
        "## Grading Standards:\n",
        "* 20% Part 0: Successfully followed lab video and typed in code\n",
        "* 20% Part 1: Re-implement Conv2D and CrossEntropy loss function\n",
        "* 20% Part 2: Implement different initialization strategies\n",
        "* 10% Part 3: Print parameters, plot train/test accuracies\n",
        "* 10% Reach 85% validation accuracy from parts 1-3\n",
        "* 10% Part 4: Convolution parameters quiz\n",
        "* 10% Tidy and legible figures, including labeled axes where appropriate\n",
        "___\n",
        "\n",
        "### Part 0\n",
        "Watch and follow video tutorial:\n",
        "\n",
        "[https://youtu.be/3TAuTcx-VCc](https://youtu.be/3TAuTcx-VCc)\n",
        "\n",
        "**TODO:**\n",
        "\n",
        "**DONE:**\n",
        "\n",
        "* Watch tutorial\n"
      ]
    },
    {
      "cell_type": "code",
      "metadata": {
        "pycharm": {
          "name": "#%%\n"
        },
        "colab": {
          "base_uri": "https://localhost:8080/"
        },
        "id": "ADxf-_WG4QU2",
        "outputId": "45fdb1e7-1432-4e07-e58a-3a6e3af9ceac"
      },
      "source": [
        "!pip3 install torch\n",
        "!pip3 install torchvision\n",
        "!pip3 install tqdm"
      ],
      "execution_count": null,
      "outputs": [
        {
          "output_type": "stream",
          "name": "stdout",
          "text": [
            "Requirement already satisfied: torch in /usr/local/lib/python3.7/dist-packages (1.9.0+cu102)\n",
            "Requirement already satisfied: typing-extensions in /usr/local/lib/python3.7/dist-packages (from torch) (3.7.4.3)\n",
            "Requirement already satisfied: torchvision in /usr/local/lib/python3.7/dist-packages (0.10.0+cu102)\n",
            "Requirement already satisfied: torch==1.9.0 in /usr/local/lib/python3.7/dist-packages (from torchvision) (1.9.0+cu102)\n",
            "Requirement already satisfied: numpy in /usr/local/lib/python3.7/dist-packages (from torchvision) (1.19.5)\n",
            "Requirement already satisfied: pillow>=5.3.0 in /usr/local/lib/python3.7/dist-packages (from torchvision) (7.1.2)\n",
            "Requirement already satisfied: typing-extensions in /usr/local/lib/python3.7/dist-packages (from torch==1.9.0->torchvision) (3.7.4.3)\n",
            "Requirement already satisfied: tqdm in /usr/local/lib/python3.7/dist-packages (4.62.2)\n"
          ]
        }
      ]
    },
    {
      "cell_type": "code",
      "metadata": {
        "collapsed": true,
        "id": "wQOefmcZVgTl"
      },
      "source": [
        "import torch\n",
        "import torch.nn as nn\n",
        "import torch.nn.functional as F\n",
        "import torch.optim as optim\n",
        "from torch.utils.data import Dataset, DataLoader\n",
        "import numpy as np\n",
        "import matplotlib.pyplot as plt\n",
        "from torchvision import transforms, utils, datasets\n",
        "from tqdm import tqdm\n",
        "from torch.nn.parameter import Parameter\n",
        "import pdb\n",
        "\n",
        "assert torch.cuda.is_available(), \"You need to request a GPU from Runtime > Change Runtime\""
      ],
      "execution_count": 1,
      "outputs": []
    },
    {
      "cell_type": "code",
      "metadata": {
        "id": "YdFHhRha5luE"
      },
      "source": [
        "# code up our own convolution operator\n",
        "class Conv2d(nn.Module):\n",
        "  def __init__(self, n_channels, out_channels, kernel_size, stride=1, padding=0, dilation=1, groups=1, init='xavier'):\n",
        "    self.__dict__.update(locals())\n",
        "    super(Conv2d, self).__init__()\n",
        "\n",
        "    shape = (out_channels, n_channels, kernel_size, stride) # (out, in, k, k) needs this shape\n",
        "    self.weight = Parameter(torch.Tensor(self.out_channels,\n",
        "                                         self.n_channels,\n",
        "                                         kernel_size[0],\n",
        "                                         kernel_size[1]))\n",
        "    self.bias = Parameter(torch.Tensor(self.out_channels))\n",
        "    #pdb.set_trace()\n",
        "    # Initialize our tensors manualy - part of the lab####################\n",
        "    if init == 'xavier':\n",
        "      var = 2 / (n_channels + out_channels)\n",
        "      #torch.nn.init.uniform_(self.weight, -var, var)\n",
        "      nn.init.xavier_uniform_(self.weight)\n",
        "\n",
        "    elif init == 'orthogonal':\n",
        "      #pdb.set_trace()\n",
        "      temp = np.random.random((out_channels, n_channels * kernel_size[0] * kernel_size[0])).astype(np.float32)\n",
        "      U,_,Vt = np.linalg.svd(temp, full_matrices=False)\n",
        "      if len(temp) > len(temp[0]):\n",
        "        W = U.reshape(out_channels, n_channels, kernel_size[0], kernel_size[0])\n",
        "      else:\n",
        "        W = Vt.reshape(out_channels, n_channels, kernel_size[0], kernel_size[0])\n",
        "      self.weight.data = torch.from_numpy(W)\n",
        "      \n",
        "    elif init == 'uniform':\n",
        "      torch.nn.init.uniform_(self.weight,-1,1)\n",
        "    \n",
        "    self.bias.data.uniform_(0,0)\n",
        "\n",
        "  def forward(self, x):\n",
        "    # input, weight, bias, stride, padding -> args\n",
        "    return F.conv2d(x, self.weight, self.bias, self.stride, self.padding, self.dilation, self.groups)\n",
        "\n",
        "  def extra_repr(self):\n",
        "    return \"Tesla is so cool\"\n",
        "\n",
        "class CrossEntropyLoss(nn.Module):\n",
        "  def __init__(self, weight=None, size_average=None, ignore_index=-100, reduce=None, reduction='mean'):\n",
        "    # Use the default CrossEntropyLoss's init function\n",
        "    super(CrossEntropyLoss, self).__init__()\n",
        "\n",
        "  def forward(self, y_hat, y_truth):\n",
        "    # a =  torch.max(y_hat, 1).values\n",
        "    # Compute the penalty using the probabilities for the wrong classes\n",
        "    penalty = torch.log(torch.sum(torch.exp(y_hat), dim=1))\n",
        "    # Create a one-hot encoding matrix of th e y_truth\n",
        "    #pdb.set_trace()\n",
        "    batch_size, num_classes = y_hat.size()\n",
        "    truth_matrix = torch.zeros(y_hat.size()) #Size = (batch_size, num_classes)\n",
        "    truth_matrix[np.arange(batch_size), y_truth] = 1 #Make the truth 1 , while everything else is 0s\n",
        "    # Compute x[class] for each batch example \n",
        "    true_class_scores = torch.sum(y_hat * truth_matrix.cuda(), dim=1)\n",
        "    # Return the mean prediction loss over the whole batch\n",
        "    return torch.mean(-true_class_scores + penalty)\n",
        "\n",
        "# class CrossEntropyLoss2(nn.Module):\n",
        "#   def __init__(self, weight=None, size_average=None, ignore_index=-100, reduce=None, reduction='mean'):\n",
        "#     self.__dict__.update(locals())\n",
        "#     super(CrossEntropyLoss, self).__init__()\n",
        "\n",
        "#   # y_truth is one hot encoded with torch.one_hot()\n",
        "#   def forward(self, y_hat, y_truth):\n",
        "#     #pdb.set_trace()\n",
        "#     penalty = torch.log(torch.sum(torch.exp(y_hat), dim=1))\n",
        "#     r = len(y_truth) # batch size\n",
        "#     c = y_truth\n",
        "#     row = torch.arange(y_hat.size(0))\n",
        "#     exp_yhat = torch.exp(y_hat)\n",
        "#     log_exp = torch.log(exp_yhat.sum(1, keepdim=True))\n",
        "#     loss = -y_hat[row,c] + log_exp\n",
        "#     # current_probabilities = y_hat[np.arange(r), c] # slices all of the rows at y_truth\n",
        "#     #current_probabilities = torch.sum(y_truth * y_hat, dim=1) # probs I'm interested in /  sum along the rows\n",
        "\n",
        "#     #compare to the penalty of the all of the other logits we don't want\n",
        "#     #loss = torch.mean(-1 * (current_probabilities - penalty)) # To maxmize the whole statement (minimizing the negative)\n",
        "#     return loss.mean()\n",
        "\n",
        "    # y_hat_softmax = torch.softmax(y_hat, dim=1).float()\n",
        "    # loss = -1 * torch.sum(y_truth * torch.log(y_hat_softmax))\n",
        "\n",
        "class ConvNetwork(nn.Module):\n",
        "  def __init__(self, dataset, init='uniform'):\n",
        "    super(ConvNetwork, self).__init__() # Call it's init fn() - basically just lets super class know that it exists and get all the parameters attached to this class to the super class. Very important\n",
        "    x, y = dataset[0]\n",
        "    c, h, w = x.size() # channel, height, width, \n",
        "    # pdb.set_trace()\n",
        "\n",
        "    out_dim = 10 # Hard coded answer\n",
        "    # ADD RELU AND MORE CONVOLUTIONS TO BE ABOUT 1M PARAMETERS\n",
        "    # pdb.set_trace()\n",
        "  \n",
        "    self.net = nn.Sequential(Conv2d(c, 32, (3,3), padding=(1,1), init=init),\n",
        "                             nn.ReLU(),\n",
        "                             Conv2d(32, 64, (3,3), padding=(0,0), init=init),\n",
        "                             nn.ReLU(),\n",
        "                             Conv2d(64, 64, (3,3), padding=(0,0), init=init),\n",
        "                             nn.ReLU(),\n",
        "                             Conv2d(64, 64, (3,3), padding=(0,0), init=init),\n",
        "                             nn.ReLU(),\n",
        "                             Conv2d(64, 64, (22,22), padding=(0,0), init=init),\n",
        "                             nn.ReLU(),\n",
        "                             Conv2d(64, out_dim, (1,1), padding=(0,0), init=init),\n",
        "                             nn.ReLU(),\n",
        "                             )\n",
        "                             \n",
        "\n",
        "                            #  Conv2d(96, 64, (3,3), padding=(0,0), init=init),\n",
        "                            #  nn.ReLU(),\n",
        "                            #  Conv2d(64, 32, (3, 3), padding=(0,0), init=init),\n",
        "                            #  nn.ReLU(),\n",
        "                            #  Conv2d(32, out_dim, (28, 28), init=init),\n",
        "                            #  nn.ReLU())\n",
        "                             #Conv2d(output, output, (1,1), init=init)) # final size needs to be batch_size x 10 x 1 x 1\n",
        "\n",
        "    #pdb.set_trace()\n",
        "  \n",
        "    \n",
        "    # self.net = nn.Sequential(Conv2d(c, 32, (3,3), padding=(1,1), init=init),\n",
        "    #                          nn.ReLU(),\n",
        "    #                          Conv2d(32, 64, (3,3), padding=(0,0), init=init),\n",
        "    #                          nn.ReLU(),\n",
        "    #                          Conv2d(64, 96, (3,3), padding=(0,0), init=init),\n",
        "    #                          nn.ReLU(),\n",
        "    #                          Conv2d(96, 64, (3,3), padding=(0,0), init=init),\n",
        "    #                          nn.ReLU(),\n",
        "    #                          Conv2d(64, 32, (3, 3), padding=(0,0), init=init),\n",
        "    #                          nn.ReLU(),\n",
        "    #                          Conv2d(32, out_dim, (28, 28), init=init),\n",
        "    #                          nn.ReLU())\n",
        "    #                          #Conv2d(output, output, (1,1), init=init)) # fin\n",
        "                             \n",
        "                            \n",
        "    \n",
        "  def forward(self, x):\n",
        "    # batch size, 10, 1 X 1\n",
        "    # x is (n, 10, 1, 1)\n",
        "    # We want a batch size x 10 so we squeeze out this dimention -> (n, 10, 1)\n",
        "    # Squeeze image again to get rid of the last one -> (n, 10)\n",
        "\n",
        "    return self.net(x).squeeze(2).squeeze(2)\n",
        "    # Use the dataset class you created in lab2\n",
        "\n",
        "class FashionMNISTProcessedDataset(Dataset):\n",
        "  def __init__(self, root, train=True):\n",
        "    self.data = datasets.FashionMNIST(root, train=train,\n",
        "                                      transform=transforms.ToTensor(),# Augment data, in this case just transform into tensors\n",
        "                                      download=True)\n",
        "  def __getitem__(self, i):\n",
        "    x, y = self.data[i]\n",
        "    return x, y\n",
        "  \n",
        "  def __len__(self):\n",
        "    return len(self.data) # If you put 100 it would cut off the training after 100 elements"
      ],
      "execution_count": 2,
      "outputs": []
    },
    {
      "cell_type": "code",
      "metadata": {
        "id": "lCPOrbn15lLq"
      },
      "source": [
        "validations = []\n",
        "losses = []\n",
        "accuracy_val = []\n",
        "accuracy_train = []\n",
        "\n",
        "def run_cnn(init='uniform', epochs=15):\n",
        "  train_dataset = FashionMNISTProcessedDataset('/tmp/fashionmnist', train=True)\n",
        "  val_dataset = FashionMNISTProcessedDataset('/tmp/fashionmnist', train=False)\n",
        "\n",
        "  # Initialize DataLoaders\n",
        "  train_loader = DataLoader(train_dataset, batch_size=100, pin_memory=True)\n",
        "  val_loader = DataLoader(val_dataset, batch_size=100, pin_memory=True)\n",
        "\n",
        "  # Instantiate your model and loss and optimizer functions\n",
        "  model = ConvNetwork(train_dataset, init)\n",
        "  model = model.cuda() # can't multiply two things one on gpu and one on cpu\n",
        "\n",
        "  #Optimizer is the thing that takes the step to make the model better\n",
        "  objective = CrossEntropyLoss() #MSE->classification prob...etc\n",
        "  optimizer = optim.SGD(model.parameters(), lr=1e-4) # What actually updates the model parameters\n",
        "\n",
        "  # Instantiate your data loaders\n",
        "  train_loader = DataLoader(train_dataset, batch_size=42, pin_memory=True) # Pin memory makes it faster with memory somehow\n",
        "  val_loader = DataLoader(val_dataset, batch_size=42) # n batches x c channels x h height x w width\n",
        "\n",
        "  # losses = []\n",
        "  # accuracy_list = []\n",
        "  # validations = []\n",
        "  num_epochs = 100\n",
        "  batch = 0\n",
        "  # Run your training / validation loops\n",
        "  for epoch in range (num_epochs):\n",
        "    if epoch == epochs:\n",
        "        return \n",
        "    #loop = tqdm(total=len(train_loader) * num_epochs, position=0)\n",
        "\n",
        "    for batch, (x, y_truth) in enumerate(train_loader):\n",
        "      #y_truth = F.one_hot(y_truth)\n",
        "      x, y_truth = x.cuda(), y_truth.cuda() \n",
        "\n",
        "      optimizer.zero_grad()\n",
        "      y_hat = model(x) \n",
        "\n",
        "      #pdb.set_trace()\n",
        "      loss = objective(y_hat, y_truth) \n",
        "      loss.backward() # Computing the gradient\n",
        "      losses.append(loss.item()) # store loss\n",
        "\n",
        "      # Training set accuracy after each batch\n",
        "      # pdb.set_trace()\n",
        "      preds = torch.max(y_hat, 1) # Returns tuple of max's and indexes\n",
        "      preds = preds.indices.reshape((y_truth.shape)) # y_truth.shape = (42) not always though because batch size can differ\n",
        "      correct = preds == y_truth\n",
        "      accuracy = torch.sum(correct).item() / len(correct)\n",
        "      accuracy_train.append((len(accuracy_train), accuracy))\n",
        "\n",
        "      #loop.set_description('epoch:{}, batch:{}, loss:{:.4f}, accuracy:{:.3f}'.format(epoch, batch, loss.item(), accuracy))\n",
        "      #loop.update(1)\n",
        "      optimizer.step() # Taking that step based on the gradient we computed\n",
        "\n",
        "      if batch % 500 == 0:\n",
        "        # this gives me all of the losses by passing in my x's and comparing them to my y's\n",
        "        # returns tensors so to get the first element in the tensor call item()\n",
        "        # then compute the mean of the losses\n",
        "        val = np.mean([objective(model(x.cuda()), y.cuda()).item()\n",
        "                      for x, y in val_loader])\n",
        "        validations.append((len(losses), val)) \n",
        "\n",
        "        # Calc Accuracy after each batch\n",
        "        with torch.no_grad():\n",
        "          model.eval()\n",
        "          with torch.no_grad():\n",
        "            correct = 0\n",
        "            total = 0\n",
        "\n",
        "            for images, labels in val_loader:\n",
        "              images = images.cuda()\n",
        "              labels = labels.cuda()\n",
        "\n",
        "              outputs = model(images)\n",
        "              _, predicted = torch.max(outputs.data, 1)\n",
        "              # pdb.set_trace()\n",
        "              total += labels.size(0)\n",
        "              correct += (predicted == labels).sum().item()\n",
        "            \n",
        "            accuracy_val.append((len(accuracy_train), correct / total)) # Make first term be length of batches so it graphs good with the training accuracies\n",
        "        print('epoch:{}, batch:{}, loss:{:.4f}, accuracy:{:.3f}'.format(epoch, batch, loss.item(),100 * accuracy))\n",
        "      \n",
        "\n",
        "    #loop.close()\n"
      ],
      "execution_count": 3,
      "outputs": []
    },
    {
      "cell_type": "code",
      "metadata": {
        "id": "6ez6an5J41s6"
      },
      "source": [
        "# Initializing random numbers\n",
        "w_test = np.random.random([10,10]) # Continuous uniform distribution\n",
        "w = np.random.randn(10,10) # Gaussian distribution of random numbers\n",
        "print(test)\n",
        "print(w)"
      ],
      "execution_count": null,
      "outputs": []
    },
    {
      "cell_type": "code",
      "metadata": {
        "id": "8uyPIHlN-VSZ"
      },
      "source": [
        "# Numpy by itslf produces float64\n",
        "np.random.randn(10,10).dtype\n",
        "# Normally use float32 in tensorflow\n",
        "np.random.randn(10,10).astype(np.float32).dtype\n",
        "# or\n",
        "torch.from_numpy(np.random.randn(10,10)).float().dtype"
      ],
      "execution_count": null,
      "outputs": []
    },
    {
      "cell_type": "code",
      "metadata": {
        "id": "4M1LzJ2O9gq4"
      },
      "source": [
        "def robertsfunction(*args, **kwargs):\n",
        "  print(args)\n",
        "  print(kwargs)\n",
        "robertsfunction(1,2,3, robert='cool')"
      ],
      "execution_count": null,
      "outputs": []
    },
    {
      "cell_type": "markdown",
      "metadata": {
        "id": "QY4owfQwm-Ni"
      },
      "source": [
        "___\n",
        "\n",
        "### Part 1\n",
        "Re-implement a Conv2D module with parameters and a CrossEntropyLoss function. Do not use PyTorch's implementation of cross entropy loss (F.cross_entropy or nn.CrossEntropyLoss) for your re-implementation of cross entropy loss. You may use PyTorch's functional implemenation of 2D convolution in your Conv2D module.\n",
        "\n",
        "**TODO:**\n",
        "\n",
        "**DONE:**\n",
        "* CrossEntropyLoss \n",
        "* Conv2D\n",
        "___\n",
        "\n",
        "### Part 2\n",
        "Implement three initialization strategies: Xe initialization\n",
        "(sometimes called Xavier), orthogonal initialization, and uniform random initialization.\n",
        "You can specify which strategy you want to use with a parameter.\n",
        "\n",
        "\n",
        "\n",
        "Helpful links include:\n",
        "*  [Orthogonal Initialization](https://hjweide.github.io/orthogonal-initialization-in-convolutional-layers) (or the original paper: http://arxiv.org/abs/1312.6120)\n",
        "*  http://andyljones.tumblr.com/post/110998971763/an-explanation-of-xavier-initialization\n",
        "\n",
        "**TODO:**\n",
        "\n",
        "**DONE:**\n",
        "* Parameterize custom Conv2D for different initilization strategies\n",
        "* Xe\n",
        "* Orthogonal\n",
        "* Uniform\n",
        "\n"
      ]
    },
    {
      "cell_type": "code",
      "metadata": {
        "collapsed": true,
        "id": "RkieTbwlYWPS"
      },
      "source": [
        "class CrossEntropyLoss(nn.Module):\n",
        "  pass\n",
        "\n",
        "class Conv2d(nn.Module):\n",
        "  pass\n"
      ],
      "execution_count": null,
      "outputs": []
    },
    {
      "cell_type": "code",
      "metadata": {
        "collapsed": true,
        "id": "d4C-_v9Hm7YE"
      },
      "source": [
        "class ConvNetwork(nn.Module):\n",
        "  pass\n"
      ],
      "execution_count": null,
      "outputs": []
    },
    {
      "cell_type": "code",
      "metadata": {
        "collapsed": true,
        "id": "jYqywck8Wdm9",
        "pycharm": {
          "is_executing": false
        }
      },
      "source": [
        "# Initialize Datasets\n",
        "\n",
        "# Initialize DataLoaders\n",
        "\n",
        "# Initialize Model\n",
        "\n",
        "# Initialize Objective and Optimizer and other parameters\n"
      ],
      "execution_count": null,
      "outputs": []
    },
    {
      "cell_type": "code",
      "metadata": {
        "collapsed": true,
        "id": "mTg1jyIsYVZN",
        "pycharm": {
          "is_executing": false
        }
      },
      "source": [
        "\n",
        "# Run your training and validation loop and collect stats\n"
      ],
      "execution_count": null,
      "outputs": []
    },
    {
      "cell_type": "markdown",
      "metadata": {
        "id": "ronkEckHiDaU"
      },
      "source": [
        "\n",
        "___\n",
        "\n",
        "### Part 3\n",
        "Print the number of parameters in your network and plot accuracy of your training and validation \n",
        "set over time. You should experiment with some deep networks and see if you can get a network \n",
        "with close to 1,000,000 parameters.\n",
        "\n",
        "Once you've experimented with multiple network setups and the different initialization strategies, plot the best-performing experiments with each initialization strategy. You should be able to exceed 85% accuracy on the validation set in at least one of the plotted experiments.\n",
        "\n",
        "**TODO:**\n",
        "* Experiment with Deep Networks\n",
        "* Plot accuracy of training and validation set over time for each initialization strategy (w/ accurate graph title and axes lables)\n",
        "* Plot experiment results with 85% or better validation accuracy\n",
        "* Print out number of parameters in the model \n",
        "\n",
        "**DONE:**\n"
      ]
    },
    {
      "cell_type": "code",
      "metadata": {
        "collapsed": true,
        "id": "PaWCKjxvyRSf",
        "pycharm": {
          "is_executing": false
        },
        "colab": {
          "base_uri": "https://localhost:8080/",
          "height": 408
        },
        "outputId": "8f2bfb03-2bf9-42be-f70d-8c15f34c1c71"
      },
      "source": [
        "# Go back up and try a few different networks and initialization strategies\n",
        "validations = []\n",
        "losses = []\n",
        "accuracy_val = []\n",
        "accuracy_train = []\n",
        "\n",
        "run_cnn('uniform')\n",
        "\n",
        "\n",
        "# Plot training and validation loss for uniform initialization\n",
        "batch, values = zip(*validations)\n",
        "\n",
        "plt.figure(1)\n",
        "plt.plot(losses, label='train')\n",
        "plt.plot(batch, values, label='val')\n",
        "plt.ylabel('Loss')\n",
        "plt.xlabel('Batch')\n",
        "plt.title('Uniform Initialization')\n",
        "plt.legend()\n",
        "# Plot training and validation accuracy for uniform initialization\n",
        "\n",
        "plt.figure(2)\n",
        "batch, values = zip(*accuracy_val)\n",
        "batch_train, batch_val = zip(*accuracy_train)\n",
        "plt.plot(batch_train, batch_val, label='train')\n",
        "plt.plot(batch, values, label='val')\n",
        "plt.ylabel('Accuracy')\n",
        "plt.xlabel('Batch')\n",
        "plt.title('Uniform Initialization')\n",
        "plt.legend()\n",
        "plt.show()\n"
      ],
      "execution_count": null,
      "outputs": [
        {
          "output_type": "stream",
          "name": "stdout",
          "text": [
            "epoch:0, batch:0, loss:147992.0469, accuracy:14.286\n",
            "epoch:0, batch:500, loss:nan, accuracy:4.762\n"
          ]
        },
        {
          "output_type": "error",
          "ename": "KeyboardInterrupt",
          "evalue": "ignored",
          "traceback": [
            "\u001b[0;31m---------------------------------------------------------------------------\u001b[0m",
            "\u001b[0;31mKeyboardInterrupt\u001b[0m                         Traceback (most recent call last)",
            "\u001b[0;32m<ipython-input-253-7e32ff031518>\u001b[0m in \u001b[0;36m<module>\u001b[0;34m()\u001b[0m\n\u001b[1;32m      1\u001b[0m \u001b[0;31m# Go back up and try a few different networks and initialization strategies\u001b[0m\u001b[0;34m\u001b[0m\u001b[0;34m\u001b[0m\u001b[0;34m\u001b[0m\u001b[0m\n\u001b[0;32m----> 2\u001b[0;31m \u001b[0mrun_cnn\u001b[0m\u001b[0;34m(\u001b[0m\u001b[0;34m'uniform'\u001b[0m\u001b[0;34m)\u001b[0m\u001b[0;34m\u001b[0m\u001b[0;34m\u001b[0m\u001b[0m\n\u001b[0m\u001b[1;32m      3\u001b[0m \u001b[0;34m\u001b[0m\u001b[0m\n\u001b[1;32m      4\u001b[0m \u001b[0;34m\u001b[0m\u001b[0m\n\u001b[1;32m      5\u001b[0m \u001b[0;31m# Plot training and validation loss for uniform initialization\u001b[0m\u001b[0;34m\u001b[0m\u001b[0;34m\u001b[0m\u001b[0;34m\u001b[0m\u001b[0m\n",
            "\u001b[0;32m<ipython-input-252-62e4fc9ef34c>\u001b[0m in \u001b[0;36mrun_cnn\u001b[0;34m(init)\u001b[0m\n\u001b[1;32m     44\u001b[0m       \u001b[0;31m#pdb.set_trace()\u001b[0m\u001b[0;34m\u001b[0m\u001b[0;34m\u001b[0m\u001b[0;34m\u001b[0m\u001b[0m\n\u001b[1;32m     45\u001b[0m       \u001b[0mloss\u001b[0m \u001b[0;34m=\u001b[0m \u001b[0mobjective\u001b[0m\u001b[0;34m(\u001b[0m\u001b[0my_hat\u001b[0m\u001b[0;34m,\u001b[0m \u001b[0my_truth\u001b[0m\u001b[0;34m)\u001b[0m\u001b[0;34m\u001b[0m\u001b[0;34m\u001b[0m\u001b[0m\n\u001b[0;32m---> 46\u001b[0;31m       \u001b[0mloss\u001b[0m\u001b[0;34m.\u001b[0m\u001b[0mbackward\u001b[0m\u001b[0;34m(\u001b[0m\u001b[0;34m)\u001b[0m \u001b[0;31m# Computing the gradient\u001b[0m\u001b[0;34m\u001b[0m\u001b[0;34m\u001b[0m\u001b[0m\n\u001b[0m\u001b[1;32m     47\u001b[0m       \u001b[0mlosses\u001b[0m\u001b[0;34m.\u001b[0m\u001b[0mappend\u001b[0m\u001b[0;34m(\u001b[0m\u001b[0mloss\u001b[0m\u001b[0;34m.\u001b[0m\u001b[0mitem\u001b[0m\u001b[0;34m(\u001b[0m\u001b[0;34m)\u001b[0m\u001b[0;34m)\u001b[0m \u001b[0;31m# store loss\u001b[0m\u001b[0;34m\u001b[0m\u001b[0;34m\u001b[0m\u001b[0m\n\u001b[1;32m     48\u001b[0m \u001b[0;34m\u001b[0m\u001b[0m\n",
            "\u001b[0;32m/usr/local/lib/python3.7/dist-packages/torch/_tensor.py\u001b[0m in \u001b[0;36mbackward\u001b[0;34m(self, gradient, retain_graph, create_graph, inputs)\u001b[0m\n\u001b[1;32m    253\u001b[0m                 \u001b[0mcreate_graph\u001b[0m\u001b[0;34m=\u001b[0m\u001b[0mcreate_graph\u001b[0m\u001b[0;34m,\u001b[0m\u001b[0;34m\u001b[0m\u001b[0;34m\u001b[0m\u001b[0m\n\u001b[1;32m    254\u001b[0m                 inputs=inputs)\n\u001b[0;32m--> 255\u001b[0;31m         \u001b[0mtorch\u001b[0m\u001b[0;34m.\u001b[0m\u001b[0mautograd\u001b[0m\u001b[0;34m.\u001b[0m\u001b[0mbackward\u001b[0m\u001b[0;34m(\u001b[0m\u001b[0mself\u001b[0m\u001b[0;34m,\u001b[0m \u001b[0mgradient\u001b[0m\u001b[0;34m,\u001b[0m \u001b[0mretain_graph\u001b[0m\u001b[0;34m,\u001b[0m \u001b[0mcreate_graph\u001b[0m\u001b[0;34m,\u001b[0m \u001b[0minputs\u001b[0m\u001b[0;34m=\u001b[0m\u001b[0minputs\u001b[0m\u001b[0;34m)\u001b[0m\u001b[0;34m\u001b[0m\u001b[0;34m\u001b[0m\u001b[0m\n\u001b[0m\u001b[1;32m    256\u001b[0m \u001b[0;34m\u001b[0m\u001b[0m\n\u001b[1;32m    257\u001b[0m     \u001b[0;32mdef\u001b[0m \u001b[0mregister_hook\u001b[0m\u001b[0;34m(\u001b[0m\u001b[0mself\u001b[0m\u001b[0;34m,\u001b[0m \u001b[0mhook\u001b[0m\u001b[0;34m)\u001b[0m\u001b[0;34m:\u001b[0m\u001b[0;34m\u001b[0m\u001b[0;34m\u001b[0m\u001b[0m\n",
            "\u001b[0;32m/usr/local/lib/python3.7/dist-packages/torch/autograd/__init__.py\u001b[0m in \u001b[0;36mbackward\u001b[0;34m(tensors, grad_tensors, retain_graph, create_graph, grad_variables, inputs)\u001b[0m\n\u001b[1;32m    147\u001b[0m     Variable._execution_engine.run_backward(\n\u001b[1;32m    148\u001b[0m         \u001b[0mtensors\u001b[0m\u001b[0;34m,\u001b[0m \u001b[0mgrad_tensors_\u001b[0m\u001b[0;34m,\u001b[0m \u001b[0mretain_graph\u001b[0m\u001b[0;34m,\u001b[0m \u001b[0mcreate_graph\u001b[0m\u001b[0;34m,\u001b[0m \u001b[0minputs\u001b[0m\u001b[0;34m,\u001b[0m\u001b[0;34m\u001b[0m\u001b[0;34m\u001b[0m\u001b[0m\n\u001b[0;32m--> 149\u001b[0;31m         allow_unreachable=True, accumulate_grad=True)  # allow_unreachable flag\n\u001b[0m\u001b[1;32m    150\u001b[0m \u001b[0;34m\u001b[0m\u001b[0m\n\u001b[1;32m    151\u001b[0m \u001b[0;34m\u001b[0m\u001b[0m\n",
            "\u001b[0;31mKeyboardInterrupt\u001b[0m: "
          ]
        }
      ]
    },
    {
      "cell_type": "code",
      "metadata": {
        "id": "PuQCAS_E4QU9",
        "colab": {
          "base_uri": "https://localhost:8080/",
          "height": 1000
        },
        "outputId": "e9c419be-f3bf-4522-d8ec-6a4937a17236"
      },
      "source": [
        "validations = []\n",
        "losses = []\n",
        "accuracy_val = []\n",
        "accuracy_train = []\n",
        "\n",
        "run_cnn('xavier')\n",
        "\n",
        "# Plot training and validation loss for Xe initialization\n",
        "batch, values = zip(*validations)\n",
        "\n",
        "plt.figure(1)\n",
        "plt.plot(losses, label='train')\n",
        "plt.plot(batch, values, label='val')\n",
        "plt.ylabel('Loss')\n",
        "plt.xlabel('Batch')\n",
        "plt.title('Xe Initialization')\n",
        "plt.legend()\n",
        "\n",
        "# Plot training and validation accuracy for Xe initialization\n",
        "\n",
        "plt.figure(2)\n",
        "batch, values = zip(*accuracy_val)\n",
        "batch_train, batch_val = zip(*accuracy_train)\n",
        "plt.plot(batch_train, batch_val, label='train')\n",
        "plt.plot(batch, values, label='val')\n",
        "plt.ylabel('Accuracy')\n",
        "plt.xlabel('Batch')\n",
        "plt.title('Xe Initialization')\n",
        "plt.legend()\n",
        "plt.show()\n"
      ],
      "execution_count": null,
      "outputs": [
        {
          "output_type": "stream",
          "name": "stdout",
          "text": [
            "epoch:0, batch:0, loss:2.3027, accuracy:9.524\n",
            "epoch:0, batch:500, loss:2.2993, accuracy:14.286\n",
            "epoch:0, batch:1000, loss:2.2955, accuracy:16.667\n",
            "epoch:1, batch:0, loss:2.2890, accuracy:14.286\n",
            "epoch:1, batch:500, loss:2.2892, accuracy:21.429\n",
            "epoch:1, batch:1000, loss:2.2842, accuracy:19.048\n",
            "epoch:2, batch:0, loss:2.2705, accuracy:33.333\n",
            "epoch:2, batch:500, loss:2.2740, accuracy:30.952\n",
            "epoch:2, batch:1000, loss:2.2570, accuracy:23.810\n",
            "epoch:3, batch:0, loss:2.2319, accuracy:35.714\n",
            "epoch:3, batch:500, loss:2.2405, accuracy:30.952\n",
            "epoch:3, batch:1000, loss:2.1998, accuracy:26.190\n",
            "epoch:4, batch:0, loss:2.1448, accuracy:38.095\n",
            "epoch:4, batch:500, loss:2.1722, accuracy:28.571\n",
            "epoch:4, batch:1000, loss:2.0906, accuracy:28.571\n",
            "epoch:5, batch:0, loss:1.9808, accuracy:50.000\n",
            "epoch:5, batch:500, loss:2.0739, accuracy:35.714\n",
            "epoch:5, batch:1000, loss:1.9327, accuracy:40.476\n",
            "epoch:6, batch:0, loss:1.7937, accuracy:54.762\n",
            "epoch:6, batch:500, loss:1.7925, accuracy:47.619\n",
            "epoch:6, batch:1000, loss:1.5735, accuracy:50.000\n",
            "epoch:7, batch:0, loss:1.4786, accuracy:61.905\n",
            "epoch:7, batch:500, loss:1.6281, accuracy:47.619\n",
            "epoch:7, batch:1000, loss:1.4554, accuracy:54.762\n",
            "epoch:8, batch:0, loss:1.3472, accuracy:61.905\n",
            "epoch:8, batch:500, loss:1.5757, accuracy:47.619\n",
            "epoch:8, batch:1000, loss:1.3789, accuracy:57.143\n",
            "epoch:9, batch:0, loss:1.2773, accuracy:61.905\n",
            "epoch:9, batch:500, loss:1.5469, accuracy:47.619\n",
            "epoch:9, batch:1000, loss:1.3310, accuracy:61.905\n",
            "epoch:10, batch:0, loss:1.2323, accuracy:64.286\n",
            "epoch:10, batch:500, loss:1.5202, accuracy:47.619\n",
            "epoch:10, batch:1000, loss:1.2916, accuracy:61.905\n",
            "epoch:11, batch:0, loss:1.2006, accuracy:64.286\n",
            "epoch:11, batch:500, loss:1.5038, accuracy:47.619\n",
            "epoch:11, batch:1000, loss:1.2590, accuracy:64.286\n",
            "epoch:12, batch:0, loss:1.1757, accuracy:64.286\n",
            "epoch:12, batch:500, loss:1.4916, accuracy:52.381\n",
            "epoch:12, batch:1000, loss:1.2273, accuracy:64.286\n",
            "epoch:13, batch:0, loss:1.1575, accuracy:64.286\n",
            "epoch:13, batch:500, loss:1.4810, accuracy:50.000\n",
            "epoch:13, batch:1000, loss:1.1982, accuracy:66.667\n",
            "epoch:14, batch:0, loss:1.1430, accuracy:66.667\n",
            "epoch:14, batch:500, loss:1.4722, accuracy:50.000\n",
            "epoch:14, batch:1000, loss:1.1749, accuracy:66.667\n"
          ]
        },
        {
          "output_type": "display_data",
          "data": {
            "image/png": "[encoded data removed]",
            "text/plain": [
              "<Figure size 432x288 with 1 Axes>"
            ]
          },
          "metadata": {
            "needs_background": "light"
          }
        },
        {
          "output_type": "display_data",
          "data": {
            "image/png": "[encoded data removed]",
            "text/plain": [
              "<Figure size 432x288 with 1 Axes>"
            ]
          },
          "metadata": {
            "needs_background": "light"
          }
        }
      ]
    },
    {
      "cell_type": "code",
      "metadata": {
        "id": "Woh6qA264QU9",
        "colab": {
          "base_uri": "https://localhost:8080/",
          "height": 1000
        },
        "outputId": "4ba0883c-107a-433c-cd46-3239ddcdbbde"
      },
      "source": [
        "validations = []\n",
        "losses = []\n",
        "accuracy_val = []\n",
        "accuracy_train = []\n",
        "\n",
        "run_cnn('orthogonal', 30)\n",
        "\n",
        "# Plot training and validation loss for orthogonal initialization\n",
        "batch, values = zip(*validations)\n",
        "\n",
        "plt.figure(1)\n",
        "plt.plot(losses, label='train')\n",
        "plt.plot(batch, values, label='val')\n",
        "plt.ylabel('Loss')\n",
        "plt.xlabel('Batch')\n",
        "plt.title('Orthogonal Initialization')\n",
        "plt.legend()\n",
        "\n",
        "# Plot training and validation accuracy for orthogonal initialization\n",
        "\n",
        "plt.figure(2)\n",
        "batch, values = zip(*accuracy_val)\n",
        "batch_train, batch_val = zip(*accuracy_train)\n",
        "plt.plot(batch_train, batch_val, label='train')\n",
        "plt.plot(batch, values, label='val')\n",
        "plt.ylabel('Accuracy')\n",
        "plt.xlabel('Batch')\n",
        "plt.title('Orthogonal Initialization')\n",
        "plt.legend()\n",
        "plt.show()\n",
        "\n"
      ],
      "execution_count": 5,
      "outputs": [
        {
          "output_type": "stream",
          "name": "stdout",
          "text": [
            "epoch:0, batch:0, loss:2.3020, accuracy:7.143\n",
            "epoch:0, batch:500, loss:2.2946, accuracy:21.429\n",
            "epoch:0, batch:1000, loss:2.2868, accuracy:38.095\n",
            "epoch:1, batch:0, loss:2.2811, accuracy:30.952\n",
            "epoch:1, batch:500, loss:2.2620, accuracy:38.095\n",
            "epoch:1, batch:1000, loss:2.2536, accuracy:45.238\n",
            "epoch:2, batch:0, loss:2.2460, accuracy:33.333\n",
            "epoch:2, batch:500, loss:2.1888, accuracy:47.619\n",
            "epoch:2, batch:1000, loss:2.1708, accuracy:40.476\n",
            "epoch:3, batch:0, loss:2.1528, accuracy:30.952\n",
            "epoch:3, batch:500, loss:1.9772, accuracy:52.381\n",
            "epoch:3, batch:1000, loss:1.9646, accuracy:40.476\n",
            "epoch:4, batch:0, loss:1.9428, accuracy:42.857\n",
            "epoch:4, batch:500, loss:1.6452, accuracy:54.762\n",
            "epoch:4, batch:1000, loss:1.8056, accuracy:42.857\n",
            "epoch:5, batch:0, loss:1.7804, accuracy:42.857\n",
            "epoch:5, batch:500, loss:1.5293, accuracy:57.143\n",
            "epoch:5, batch:1000, loss:1.7563, accuracy:42.857\n",
            "epoch:6, batch:0, loss:1.6899, accuracy:40.476\n",
            "epoch:6, batch:500, loss:1.4940, accuracy:54.762\n",
            "epoch:6, batch:1000, loss:1.7125, accuracy:42.857\n",
            "epoch:7, batch:0, loss:1.5600, accuracy:40.476\n",
            "epoch:7, batch:500, loss:1.3712, accuracy:59.524\n",
            "epoch:7, batch:1000, loss:1.4870, accuracy:42.857\n",
            "epoch:8, batch:0, loss:1.4070, accuracy:45.238\n",
            "epoch:8, batch:500, loss:1.3299, accuracy:61.905\n",
            "epoch:8, batch:1000, loss:1.3968, accuracy:50.000\n",
            "epoch:9, batch:0, loss:1.3039, accuracy:52.381\n",
            "epoch:9, batch:500, loss:1.3085, accuracy:66.667\n",
            "epoch:9, batch:1000, loss:1.3215, accuracy:52.381\n",
            "epoch:10, batch:0, loss:1.2340, accuracy:59.524\n",
            "epoch:10, batch:500, loss:1.2912, accuracy:66.667\n",
            "epoch:10, batch:1000, loss:1.2587, accuracy:57.143\n",
            "epoch:11, batch:0, loss:1.1882, accuracy:59.524\n",
            "epoch:11, batch:500, loss:1.2674, accuracy:64.286\n",
            "epoch:11, batch:1000, loss:1.2164, accuracy:59.524\n",
            "epoch:12, batch:0, loss:1.1557, accuracy:61.905\n",
            "epoch:12, batch:500, loss:1.2422, accuracy:66.667\n",
            "epoch:12, batch:1000, loss:1.1861, accuracy:61.905\n",
            "epoch:13, batch:0, loss:1.1342, accuracy:64.286\n",
            "epoch:13, batch:500, loss:1.2205, accuracy:66.667\n",
            "epoch:13, batch:1000, loss:1.1684, accuracy:64.286\n",
            "epoch:14, batch:0, loss:1.1161, accuracy:69.048\n",
            "epoch:14, batch:500, loss:1.1965, accuracy:66.667\n",
            "epoch:14, batch:1000, loss:1.1517, accuracy:66.667\n",
            "epoch:15, batch:0, loss:1.1091, accuracy:69.048\n",
            "epoch:15, batch:500, loss:1.1754, accuracy:66.667\n",
            "epoch:15, batch:1000, loss:1.1354, accuracy:69.048\n",
            "epoch:16, batch:0, loss:1.1015, accuracy:69.048\n",
            "epoch:16, batch:500, loss:1.1529, accuracy:66.667\n",
            "epoch:16, batch:1000, loss:1.1269, accuracy:66.667\n",
            "epoch:17, batch:0, loss:1.1138, accuracy:66.667\n",
            "epoch:17, batch:500, loss:1.1283, accuracy:66.667\n",
            "epoch:17, batch:1000, loss:1.1192, accuracy:66.667\n",
            "epoch:18, batch:0, loss:1.1089, accuracy:66.667\n",
            "epoch:18, batch:500, loss:1.1120, accuracy:66.667\n",
            "epoch:18, batch:1000, loss:1.1108, accuracy:66.667\n",
            "epoch:19, batch:0, loss:0.9837, accuracy:69.048\n",
            "epoch:19, batch:500, loss:0.9130, accuracy:76.190\n",
            "epoch:19, batch:1000, loss:0.9722, accuracy:71.429\n",
            "epoch:20, batch:0, loss:0.9726, accuracy:69.048\n",
            "epoch:20, batch:500, loss:0.8842, accuracy:76.190\n",
            "epoch:20, batch:1000, loss:0.9595, accuracy:71.429\n",
            "epoch:21, batch:0, loss:0.9708, accuracy:69.048\n",
            "epoch:21, batch:500, loss:0.8638, accuracy:76.190\n",
            "epoch:21, batch:1000, loss:0.9501, accuracy:73.810\n",
            "epoch:22, batch:0, loss:0.9682, accuracy:69.048\n",
            "epoch:22, batch:500, loss:0.8463, accuracy:76.190\n",
            "epoch:22, batch:1000, loss:0.9463, accuracy:73.810\n",
            "epoch:23, batch:0, loss:0.9613, accuracy:69.048\n",
            "epoch:23, batch:500, loss:0.8343, accuracy:73.810\n",
            "epoch:23, batch:1000, loss:0.9416, accuracy:73.810\n",
            "epoch:24, batch:0, loss:0.9546, accuracy:69.048\n",
            "epoch:24, batch:500, loss:0.8263, accuracy:73.810\n",
            "epoch:24, batch:1000, loss:0.9382, accuracy:71.429\n",
            "epoch:25, batch:0, loss:0.9533, accuracy:69.048\n",
            "epoch:25, batch:500, loss:0.8222, accuracy:73.810\n",
            "epoch:25, batch:1000, loss:0.9325, accuracy:71.429\n",
            "epoch:26, batch:0, loss:0.9499, accuracy:69.048\n",
            "epoch:26, batch:500, loss:0.8128, accuracy:73.810\n",
            "epoch:26, batch:1000, loss:0.9328, accuracy:73.810\n",
            "epoch:27, batch:0, loss:0.9483, accuracy:69.048\n",
            "epoch:27, batch:500, loss:0.8045, accuracy:73.810\n",
            "epoch:27, batch:1000, loss:0.9308, accuracy:71.429\n",
            "epoch:28, batch:0, loss:0.9448, accuracy:69.048\n",
            "epoch:28, batch:500, loss:0.7879, accuracy:73.810\n",
            "epoch:28, batch:1000, loss:0.9306, accuracy:71.429\n",
            "epoch:29, batch:0, loss:0.9461, accuracy:71.429\n",
            "epoch:29, batch:500, loss:0.7790, accuracy:73.810\n",
            "epoch:29, batch:1000, loss:0.9281, accuracy:71.429\n"
          ]
        },
        {
          "output_type": "display_data",
          "data": {
            "image/png": "[encoded data removed]",
            "text/plain": [
              "<Figure size 432x288 with 1 Axes>"
            ]
          },
          "metadata": {
            "needs_background": "light"
          }
        },
        {
          "output_type": "display_data",
          "data": {
            "image/png": "[encoded data removed]",
            "text/plain": [
              "<Figure size 432x288 with 1 Axes>"
            ]
          },
          "metadata": {
            "needs_background": "light"
          }
        }
      ]
    },
    {
      "cell_type": "code",
      "metadata": {
        "id": "ZKpmMnZggiX3"
      },
      "source": [
        ""
      ],
      "execution_count": null,
      "outputs": []
    },
    {
      "cell_type": "code",
      "metadata": {
        "collapsed": true,
        "id": "oijCR-JnyS6V",
        "pycharm": {
          "is_executing": false
        },
        "colab": {
          "base_uri": "https://localhost:8080/"
        },
        "outputId": "5452ebfa-f852-4925-e256-5ea94df67f9a"
      },
      "source": [
        "# Compute and print the number of parameters in the model\n",
        "# !pip -vvv install prettyTable\n",
        "# from prettytable import PrettyTable\n",
        "train_dataset = FashionMNISTProcessedDataset('/tmp/fashionmnist', train=True)\n",
        "\n",
        "\n",
        "def count_parameters(model):\n",
        "  table = PrettyTable([\"Modules\", \"Parameters\"])\n",
        "  total_params = 0\n",
        "  for name, parameter in model.named_parameters():\n",
        "    if not parameter.requires_grad: continue\n",
        "    param = parameter.numel() # returns the total number of elements in the input tensor\n",
        "    table.add_row([name, param])\n",
        "    total_params+=param\n",
        "  print(table)\n",
        "  print(f\"Total trainable params: {total_params}\")\n",
        "  return total_params\n",
        "\n",
        "test_model = ConvNetwork(train_dataset, 'orthogonal')\n",
        "\n",
        "count_parameters(test_model)\n"
      ],
      "execution_count": null,
      "outputs": [
        {
          "output_type": "stream",
          "name": "stdout",
          "text": [
            "+---------------+------------+\n",
            "|    Modules    | Parameters |\n",
            "+---------------+------------+\n",
            "|  net.0.weight |    288     |\n",
            "|   net.0.bias  |     32     |\n",
            "|  net.2.weight |   18432    |\n",
            "|   net.2.bias  |     64     |\n",
            "|  net.4.weight |   36864    |\n",
            "|   net.4.bias  |     64     |\n",
            "|  net.6.weight |   36864    |\n",
            "|   net.6.bias  |     64     |\n",
            "|  net.8.weight |  1982464   |\n",
            "|   net.8.bias  |     64     |\n",
            "| net.10.weight |    640     |\n",
            "|  net.10.bias  |     10     |\n",
            "+---------------+------------+\n",
            "Total trainable params: 2075850\n"
          ]
        },
        {
          "output_type": "execute_result",
          "data": {
            "text/plain": [
              "2075850"
            ]
          },
          "metadata": {},
          "execution_count": 232
        }
      ]
    },
    {
      "cell_type": "markdown",
      "metadata": {
        "id": "7hXGRxUQh9gX"
      },
      "source": [
        "___\n",
        "\n",
        "### Part 4\n",
        "Learn about how convolution layers affect the shape of outputs, and answer the following quiz questions. Include these in a new markdown cell in your jupyter notebook.\n",
        "\n",
        "\n",
        "*Using a Kernel size of 3×3 what should the settings of your 2d convolution be that results in the following mappings (first answer given to you)*\n",
        "\n",
        "* (c=3, h=10, w=10) ⇒ (c=10, h=8, w=8) : (out_channels=10, kernel_size=(3, 3), padding=(0, 0))\n",
        "* (c=3, h=10, w=10) ⇒ (c=22, h=10, w=10) : (out_channels=22, kernel_size(3,3), padding=(1,1))\n",
        "* (c=3, h=10, w=10) ⇒ (c=65, h=12, w=12) : (out_channels=65, kernel_size(3,3), padding=(2,2))\n",
        "* (c=3, h=10, w=10) ⇒ (c=7, h=20, w=20) : (out_channels=7, kernel_size(3,3), padding=(6,6))\n",
        "\n",
        "*Using a Kernel size of 5×5:*)\n",
        "\n",
        "* (c=3, h=10, w=10) ⇒ (c=10, h=8, w=8) : (out_channels=10, kernel_size=(5, 5), padding=(1, 1))\n",
        "* (c=3, h=10, w=10) ⇒ (c=100, h=10, w=10) : (out_channels=100, kernel_size(5,5, padding=(2,2))\n",
        "* (c=3, h=10, w=10) ⇒ (c=23, h=12, w=12) : (out_channels=23, kernel_size(5,5), padding=(3,3))\n",
        "* (c=3, h=10, w=10) ⇒ (c=5, h=24, w=24) : (out_channels=5, kernel_size(5,5), padding=(9,9))\n",
        "\n",
        "*Using Kernel size of 5×3:*\n",
        "\n",
        "* (c=3, h=10, w=10) ⇒ (c=10, h=8, w=8) : (out_channel=10, kernel_size=(5,3), padding=(1,0))\n",
        "* (c=3, h=10, w=10) ⇒ (c=100, h=10, w=10) : (out_channels=100, kernel_size=(5,3), padding=(2,1))\n",
        "* (c=3, h=10, w=10) ⇒ (c=23, h=12, w=12) : (out_channels=23, kernel_size=(5,3), padding=(3,2))\n",
        "* (c=3, h=10, w=10) ⇒ (c=5, h=24, w=24) : (out_cahnnels=5, kernel_size=(5,3), padding=(9,8))\n",
        "\n",
        "*Determine the kernel that requires the smallest padding size to make the following mappings possible:*\n",
        "\n",
        "* (c=3, h=10, w=10) ⇒ (c=10, h=9, w=7) : (out_channels=10, kernel_size(2,4), padding=(0,0))\n",
        "* (c=3, h=10, w=10) ⇒ (c=22, h=10, w=10) : (out_channels=22, kernel_size(1,1), padding=(0,0))\n",
        "\n",
        "**TODO:**\n",
        "\n",
        "**DONE:**\n",
        "* Answer all the questions above \n"
      ]
    },
    {
      "cell_type": "markdown",
      "metadata": {
        "id": "gZ0cM1wcHr-N"
      },
      "source": [
        "######################################################NOTES####################\n"
      ]
    },
    {
      "cell_type": "code",
      "metadata": {
        "collapsed": true,
        "id": "XXfG3wClh8an",
        "pycharm": {
          "is_executing": false
        }
      },
      "source": [
        "# Write some test code for checking the answers for these problems (example shown in the video)\n"
      ],
      "execution_count": null,
      "outputs": []
    },
    {
      "cell_type": "code",
      "metadata": {
        "id": "mdLzz-UtA3bc"
      },
      "source": [
        "## tips ##\n",
        "# Create cross entropy loss the same way we created the other modules (init fn and forward fn)\n",
        "# forward() takes in 2 items -> same api as the cross entropy loss fn in pytorch\n",
        "\n",
        "# More tips\n",
        "a = torch.from_numpy(np.random.randn(42,10,1).astype(np.float32))\n",
        "# run this through torch.exp(a)"
      ],
      "execution_count": null,
      "outputs": []
    },
    {
      "cell_type": "code",
      "metadata": {
        "id": "X7-zXUnOBh9F"
      },
      "source": [
        "b = torch.exp(a)\n",
        "b.sum()# don't do this because you don't want the sum over the entire batch\n",
        "c = b.sum(dim=1) # Sum over the rows(1 for each row of the batch)\n",
        "#print(c.size())\n",
        "a.size(), b.sum(1, keepdim=True).size()\n",
        "# vs\n",
        "print(a.size())\n",
        "print(b.size())\n",
        "# a.size(), b.sum(1).size()\n",
        "# Now we can do\n",
        "print(b.sum(1).size())\n",
        "z = a / b.sum(1, keepdim=True) # Called broadcasting\n",
        "print(z.size())"
      ],
      "execution_count": null,
      "outputs": []
    },
    {
      "cell_type": "code",
      "metadata": {
        "id": "lMes3uA1IVZT"
      },
      "source": [
        "i.dtype"
      ],
      "execution_count": null,
      "outputs": []
    },
    {
      "cell_type": "code",
      "metadata": {
        "id": "zC28ClWYFy4Q"
      },
      "source": [
        "# EX\n",
        "a = torch.from_numpy(np.random.randn(3,10,1).astype(np.float32))\n",
        "b = torch.exp(a)\n",
        "i = torch.tensor([1,7,2], dtype=torch.int64) # Grab the first 3 indexes of truths \n",
        "row = torch.arange(b.size(0))\n",
        "col = i\n",
        "b[row, col]\n"
      ],
      "execution_count": null,
      "outputs": []
    },
    {
      "cell_type": "code",
      "metadata": {
        "id": "oPk7epEVHBYD"
      },
      "source": [
        "print(b.shape) # This is a batch with 3 instances with 4 classes in each\n",
        "print(\"All of the batches but only the first index\", b[:,0].size())\n",
        "print(b)"
      ],
      "execution_count": null,
      "outputs": []
    },
    {
      "cell_type": "code",
      "metadata": {
        "id": "GgYupiShKSUV"
      },
      "source": [
        "# Accuracy - Output from your model is an enormous tensor with numbers for each class that you're predicting. You might want to know what the argmax is (convert to probabilities)\n",
        "torch.softmax(y_hat, dim=1) # Converted to probabilities between 0 and 1 -  Can't use on cross entropy fn\n",
        "torch.softmax(y_hat,dim=1).argmax(1) == y_truth\n",
        "(torch.softmax(y_hat,dim=1).argmax(1) == y_truth).float().mean() # Avg accuracy is 23%\n",
        "# Compute for each batch and average it out\n"
      ],
      "execution_count": null,
      "outputs": []
    },
    {
      "cell_type": "code",
      "metadata": {
        "id": "ljEAos_LR7Gt"
      },
      "source": [
        "# Compute the total number of paramenters in the model\n",
        "for p in model.parameters():\n",
        "  print(p.size())\n",
        "  for s in p.size():\n",
        "    print(s)\n",
        "\n",
        "# Do a list comprehension\n",
        "# np.prod() - multiplies a list of numbers together\n",
        "np.prod(range(1,10))"
      ],
      "execution_count": null,
      "outputs": []
    },
    {
      "cell_type": "code",
      "metadata": {
        "id": "zMrZHQ1YTt8i"
      },
      "source": [
        "# Chaning kernel size\n",
        "# What do i need to do this? The output chaneel is decided for you just specify out_channels\n",
        "# Kernel size is given to you and you have you figure out the padding\n",
        "#(c=3, h=10, w=10) => (c=10, h=u, w=8) : out = 10, kernel_size(3,3), padding=(0,0)\n",
        "\n",
        "c = nn.Conv2d(3, 10, kernel_size=(3,3), padding=(0,0))\n",
        "# run convolution on tensor of zero size 1 by batch\n",
        "c(torch.zeros(1,3,10,10)).size()"
      ],
      "execution_count": null,
      "outputs": []
    }
  ]
}