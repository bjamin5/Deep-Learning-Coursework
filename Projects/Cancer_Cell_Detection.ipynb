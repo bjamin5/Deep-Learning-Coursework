{
  "nbformat": 4,
  "nbformat_minor": 0,
  "metadata": {
    "accelerator": "GPU",
    "colab": {
      "name": "Cancer Cell Detection.ipynb",
      "provenance": [],
      "collapsed_sections": [],
      "include_colab_link": true
    },
    "kernelspec": {
      "display_name": "Python 3",
      "language": "python",
      "name": "python3"
    },
    "language_info": {
      "codemirror_mode": {
        "name": "ipython",
        "version": 3
      },
      "file_extension": ".py",
      "mimetype": "text/x-python",
      "name": "python",
      "nbconvert_exporter": "python",
      "pygments_lexer": "ipython3",
      "version": "3.7.1"
    },
    "nteract": {
      "version": "0.28.0"
    },
    "pycharm": {
      "stem_cell": {
        "cell_type": "raw",
        "metadata": {
          "collapsed": false
        },
        "source": []
      }
    }
  },
  "cells": [
    {
      "cell_type": "markdown",
      "metadata": {
        "id": "view-in-github",
        "colab_type": "text"
      },
      "source": [
        "<a href=\"https://colab.research.google.com/github/bjamin5/Deep-Learning-Coursework/blob/main/Projects/Cancer_Cell_Detection.ipynb\" target=\"_parent\"><img src=\"https://colab.research.google.com/assets/colab-badge.svg\" alt=\"Open In Colab\"/></a>"
      ]
    },
    {
      "cell_type": "markdown",
      "metadata": {
        "id": "tpnN_XZwq_vc"
      },
      "source": [
        "<a href=\"https://colab.research.google.com/github/wingated/cs474_labs_f2019/blob/master/DL_Lab4.ipynb\" target=\"_parent\"><img src=\"https://colab.research.google.com/assets/colab-badge.svg\" alt=\"Open In Colab\"/></a>"
      ]
    },
    {
      "cell_type": "markdown",
      "metadata": {
        "id": "view-in-github"
      },
      "source": [
        "# Cancer Detection\n",
        "\n",
        "## Objective\n",
        "* To build a dense prediction model\n",
        "* To begin reading current papers in DNN research\n",
        "\n",
        "## Deliverable\n",
        "For this lab, you will turn in a notebook that describes your efforts at creating\n",
        "a pytorch radiologist. Your final deliverable is a notebook that has (1) a deep network,\n",
        "(2) method of calculating accuracy, \n",
        "(3) images that show the dense prediction produced by your network on the pos_test_000072.png image (index 172 in the validation dataset).\n",
        "This is an image in the test set that your network will not have seen before.\n",
        "This image, and the ground truth labeling, is shown below.\n",
        "(And is contained in the downloadable dataset below).\n",
        "\n",
        "![](http://liftothers.org/dokuwiki/lib/exe/fetch.php?w=200&tok=a8ac31&media=cs501r_f2016:pos_test_000072_output.png)\n",
        "<img src=\"http://liftothers.org/dokuwiki/lib/exe/fetch.php?media=cs501r_f2016:pos_test_000072.png\" width=\"200\">\n",
        "\n",
        "\n",
        "## Data set\n",
        "The data is given as a set of 1024×1024 PNG images. Each input image (in \n",
        "the ```inputs``` directory) is an RGB image of a section of tissue,\n",
        "and there a file with the same name (in the ```outputs``` directory) \n",
        "that has a dense labeling of whether or not a section of tissue is cancerous\n",
        "(white pixels mean “cancerous”, while black pixels mean “not cancerous”).\n",
        "\n",
        "The data has been pre-split for you into test and training splits.\n",
        "Filenames also reflect whether or not the image has any cancer at all \n",
        "(files starting with ```pos_``` have some cancerous pixels, while files \n",
        "starting with ```neg_``` have no cancer anywhere).\n",
        "All of the data is hand-labeled, so the dataset is not very large.\n",
        "That means that overfitting is a real possibility.\n",
        "\n",
        "## Description\n",
        "For a video including some tips and tricks that can help with this lab: [https://youtu.be/Ms19kgK_D8w](https://youtu.be/Ms19kgK_D8w)\n",
        "For this lab, you will implement a virtual radiologist.\n",
        "You are given images of possibly cancerous tissue samples, \n",
        "and you must build a detector that identifies where in the tissue cancer may reside.\n",
        "\n",
        "---\n",
        "\n",
        "https://youtu.be/Ms19kgK_D8w\n",
        "\n",
        "### Part 1\n",
        "Implement a dense predictor\n",
        "\n",
        "In previous labs and lectures, we have talked about DNNs that classify an \n",
        "entire image as a single class. Here, however, we are interested in a more nuanced classification: \n",
        "given an input image, we would like to identify each pixel that is possibly cancerous. \n",
        "That means that instead of a single output, your network should output an “image”, \n",
        "where each output pixel of your network represents the probability that a pixel is cancerous.\n",
        "\n",
        "___\n",
        "\n",
        "Implement your network topology\n",
        "\n",
        "Use the “Deep Convolution U-Net” from this paper: [(U-Net: Convolutional Networks for Biomedical Image Segmentation)](https://arxiv.org/pdf/1505.04597.pdf) \n",
        "\n",
        "![(Figure 1)](https://lh3.googleusercontent.com/qnHiB3B2KRxC3NjiSDtY08_DgDGTDsHcO6PP53oNRuct-p2QXCR-gyLkDveO850F2tTAhIOPC5Ha06NP9xq1JPsVAHlQ5UXA5V-9zkUrJHGhP_MNHFoRGnjBz1vn1p8P2rMWhlAb6HQ=w2400)\n",
        "\n",
        "You should use existing pytorch functions (not your own Conv2D module), such as ```nn.Conv2d``` and ```nn.CrossEntropyLoss```;\n",
        "you will also need the pytorch function ```torch.cat``` and ```nn.ConvTranspose2d```\n",
        "\n",
        "```torch.cat``` allows you to concatenate tensors.\n",
        "```nn.ConvTranspose2d``` is the opposite of ```nn.Conv2d```.\n",
        "It is used to bring an image from low res to higher res.\n",
        "[This blog](https://towardsdatascience.com/up-sampling-with-transposed-convolution-9ae4f2df52d0) should help you understand this function in detail.\n",
        "\n",
        "You can simplify the implementation of this lab by padding the feature maps as they pass through each convolution. This will make the concatenation process easier, though this is technically a departure from the cropping technique outlined in the orginal U-Net paper. \n",
        "\n",
        "Note that the simplest network you could implement (with all the desired properties)\n",
        "is just a single convolution layer with two filters and no relu! \n",
        "Why is that? (of course it wouldn't work very well!)\n",
        "\n",
        "**TODO:**\n",
        "\n",
        "**DONE:**\n",
        "\n",
        "* Understand the U-Net architecture\n",
        "* Understand concatenation of inputs from multiple prior layers\n",
        "* Understand ConvTranspose\n",
        "* Answer Question / Reflect on simplest network with the desired properties\n"
      ]
    },
    {
      "cell_type": "code",
      "metadata": {
        "colab": {
          "base_uri": "https://localhost:8080/"
        },
        "id": "wQOefmcZVgTl",
        "pycharm": {
          "is_executing": false
        },
        "outputId": "091e4293-e16c-4f2a-c510-d9e25cf7f4fe"
      },
      "source": [
        "!pip3 install torch\n",
        "!pip3 install torchvision\n",
        "!pip3 install tqdm\n",
        "\n",
        "import torch\n",
        "import torch.nn as nn\n",
        "import torch.nn.functional as F\n",
        "import torch.optim as optim\n",
        "from torch.utils.data import Dataset, DataLoader\n",
        "import numpy as np\n",
        "import matplotlib.pyplot as plt\n",
        "from torchvision import transforms, utils, datasets\n",
        "from tqdm import tqdm\n",
        "from torch.nn.parameter import Parameter\n",
        "import pdb\n",
        "import torchvision\n",
        "import os\n",
        "import gzip\n",
        "import tarfile\n",
        "import gc\n",
        "from IPython.core.ultratb import AutoFormattedTB\n",
        "__ITB__ = AutoFormattedTB(mode = 'Verbose',color_scheme='LightBg', tb_offset = 1)\n",
        "\n",
        "assert torch.cuda.is_available(), \"You need to request a GPU from Runtime > Change Runtime\""
      ],
      "execution_count": null,
      "outputs": [
        {
          "output_type": "stream",
          "name": "stdout",
          "text": [
            "Requirement already satisfied: torch in /usr/local/lib/python3.7/dist-packages (1.9.0+cu102)\n",
            "Requirement already satisfied: typing-extensions in /usr/local/lib/python3.7/dist-packages (from torch) (3.7.4.3)\n",
            "Requirement already satisfied: torchvision in /usr/local/lib/python3.7/dist-packages (0.10.0+cu102)\n",
            "Requirement already satisfied: numpy in /usr/local/lib/python3.7/dist-packages (from torchvision) (1.19.5)\n",
            "Requirement already satisfied: pillow>=5.3.0 in /usr/local/lib/python3.7/dist-packages (from torchvision) (7.1.2)\n",
            "Requirement already satisfied: torch==1.9.0 in /usr/local/lib/python3.7/dist-packages (from torchvision) (1.9.0+cu102)\n",
            "Requirement already satisfied: typing-extensions in /usr/local/lib/python3.7/dist-packages (from torch==1.9.0->torchvision) (3.7.4.3)\n",
            "Requirement already satisfied: tqdm in /usr/local/lib/python3.7/dist-packages (4.62.3)\n"
          ]
        }
      ]
    },
    {
      "cell_type": "markdown",
      "metadata": {
        "id": "49quyvIJvTq8"
      },
      "source": [
        "WARNING: You may run into an error that says \"RuntimeError: CUDA out of memory.\"\n",
        "\n",
        "In this case, the memory required for your batch is larger than what the GPU is capable of. You can solve this problem by adjusting the image size or the batch size and then restarting the runtime. "
      ]
    },
    {
      "cell_type": "code",
      "metadata": {
        "id": "Il_53HLSWPTY"
      },
      "source": [
        "class CancerDataset(Dataset):\n",
        "  def __init__(self, root, download=True, size=512, train=True):\n",
        "    if download and not os.path.exists(os.path.join(root, 'cancer_data')):\n",
        "      datasets.utils.download_url('http://liftothers.org/cancer_data.tar.gz', root, 'cancer_data.tar.gz', None)\n",
        "      self.extract_gzip(os.path.join(root, 'cancer_data.tar.gz'))\n",
        "      self.extract_tar(os.path.join(root, 'cancer_data.tar'))\n",
        "    \n",
        "    postfix = 'train' if train else 'test'\n",
        "    root = os.path.join(root, 'cancer_data', 'cancer_data')\n",
        "    self.dataset_folder = torchvision.datasets.ImageFolder(os.path.join(root, 'inputs_' + postfix) ,transform = transforms.Compose([transforms.Resize(size),transforms.ToTensor()]))\n",
        "    self.label_folder = torchvision.datasets.ImageFolder(os.path.join(root, 'outputs_' + postfix) ,transform = transforms.Compose([transforms.Resize(size),transforms.ToTensor()]))\n",
        "\n",
        "  @staticmethod\n",
        "  def extract_gzip(gzip_path, remove_finished=False):\n",
        "    print('Extracting {}'.format(gzip_path))\n",
        "    with open(gzip_path.replace('.gz', ''), 'wb') as out_f, gzip.GzipFile(gzip_path) as zip_f:\n",
        "      out_f.write(zip_f.read())\n",
        "    if remove_finished:\n",
        "      os.unlink(gzip_path)\n",
        "  \n",
        "  @staticmethod\n",
        "  def extract_tar(tar_path):\n",
        "    print('Untarring {}'.format(tar_path))\n",
        "    z = tarfile.TarFile(tar_path)\n",
        "    z.extractall(tar_path.replace('.tar', ''))\n",
        "\n",
        "  def __getitem__(self,index):\n",
        "    img = self.dataset_folder[index]\n",
        "    label = self.label_folder[index]\n",
        "    return img[0],label[0][0]\n",
        "  \n",
        "  def __len__(self):\n",
        "    return len(self.dataset_folder)"
      ],
      "execution_count": null,
      "outputs": []
    },
    {
      "cell_type": "code",
      "metadata": {
        "colab": {
          "base_uri": "https://localhost:8080/"
        },
        "id": "XPgrP88aOtfy",
        "outputId": "516cf47c-698a-4956-cf9e-2c41a8c8d33b"
      },
      "source": [
        "# Test input / output sizes of the Conv block\n",
        "test = conv_block(1,64, pad=1)\n",
        "x = torch.randn(1, 1, 512, 512)\n",
        "test(x).shape"
      ],
      "execution_count": null,
      "outputs": [
        {
          "output_type": "execute_result",
          "data": {
            "text/plain": [
              "torch.Size([1, 64, 512, 512])"
            ]
          },
          "metadata": {},
          "execution_count": 7
        }
      ]
    },
    {
      "cell_type": "code",
      "metadata": {
        "id": "jq22IyKanxo_"
      },
      "source": [
        "# Use the output of one network in two places(convolution and maxpooling),\n",
        "# use the built-in batch normalization and dropout layer.\n",
        "\n",
        "class conv_block(nn.Module):\n",
        "    def __init__(self, in_channels, out_channels, pad=0):\n",
        "        super().__init__()\n",
        "        # two conv. operations, one that doubles the number of channels from\n",
        "        # in_channels to out_channels and another that goes from out_channels\n",
        "        # to out_channels. Both are 2D convs with kernel = 3, padding = 0, and relu\n",
        "        self.conv1 = nn.Conv2d(in_channels, out_channels, padding=pad, kernel_size=3)\n",
        "        self.relu = nn.ReLU()\n",
        "        self.conv2 = nn.Conv2d(out_channels, out_channels, padding=pad, kernel_size=3)\n",
        "    \n",
        "    def forward(self, x):\n",
        "        x = self.conv1(x)\n",
        "        x = self.relu(x)\n",
        "        x = self.conv2(x)\n",
        "        x = self.relu(x)\n",
        "        return x\n",
        "\n",
        "class UNet(nn.Module):\n",
        "  def __init__(self): #, n_channels, n_classes): # CancerDetection constructor\n",
        "    # You always need to use super to call nn.Module's init function when creating a class that inherits nn.Module.\n",
        "    super(UNet, self).__init__()\n",
        "    # c, h, w = x.size()\n",
        "    output_dim = 2\n",
        "\n",
        "    # down layers\n",
        "    self.dlayer1 = conv_block(3, 64, pad=1)\n",
        "    self.dlayer2 = conv_block(64, 128, pad=1)\n",
        "    self.dlayer3 = conv_block(128, 256, pad=1)\n",
        "    self.dlayer4 = conv_block(256, 512, pad=1)\n",
        "\n",
        "    self.dlayer5 = conv_block(512, 1024, pad=1)\n",
        "\n",
        "    # up layers\n",
        "    self.ulayer4 = conv_block(1024, 512, pad=1)\n",
        "    self.ulayer3 = conv_block(512, 256, pad=1)\n",
        "    self.ulayer2 = conv_block(256, 128, pad=1)\n",
        "    self.ulayer1 = conv_block(128, 64, pad=1)\n",
        "    self.out_layer = nn.Conv2d(64, output_dim, kernel_size=1)\n",
        "    self.pool = nn.MaxPool2d((2,2))\n",
        "\n",
        "    self.upConv4 = nn.ConvTranspose2d(1024, 512, (2,2), stride=2)\n",
        "    self.upConv3 = nn.ConvTranspose2d(512,256, (2,2), stride=2)\n",
        "    self.upConv2 = nn.ConvTranspose2d(256, 128, (2,2), stride=2)\n",
        "    self.upConv1 = nn.ConvTranspose2d(128, 64, (2,2), stride=2)\n",
        "\n",
        "  def forward(self, input): # nn.Module sets up a hook that calls forward when you \"call\" the module object: net(x) calls net.forward(x)\n",
        "    # pdb.set_trace()\n",
        "    o1 = self.dlayer1(input)\n",
        "    o2 = self.dlayer2(self.pool(o1))\n",
        "    o3 = self.dlayer3(self.pool(o2))\n",
        "    o4 = self.dlayer4(self.pool(o3))\n",
        "    o5 = self.dlayer5(self.pool(o4))\n",
        "\n",
        "    # pdb.set_trace()\n",
        "    up_o4 = self.ulayer4(torch.cat((o4, self.upConv4(o5)), dim=1))\n",
        "    up_o3 = self.ulayer3(torch.cat((o3, self.upConv3(up_o4)), dim=1))\n",
        "    up_o2 = self.ulayer2(torch.cat((o2, self.upConv2(up_o3)), dim=1))\n",
        "    up_o1 = self.ulayer1(torch.cat((o1, self.upConv1(up_o2)), dim=1))\n",
        "    out = self.out_layer(up_o1)\n",
        "\n",
        "    return out\n",
        "\n"
      ],
      "execution_count": null,
      "outputs": []
    },
    {
      "cell_type": "code",
      "metadata": {
        "id": "RkieTbwlYWPS"
      },
      "source": [
        "def Cancer_Detector(total_epochs=8):\n",
        "  try:\n",
        "    #dataset\n",
        "    train_dataset = CancerDataset('/tmp/fashionmnist', size=256, train=True)\n",
        "    val_dataset = CancerDataset('/tmp/fashionmnist', size=256, train=False)\n",
        "\n",
        "    # Instantiate your data loaders\n",
        "    train_loader = DataLoader(train_dataset, batch_size=5, pin_memory=True, shuffle=True) \n",
        "    val_loader = DataLoader(val_dataset, batch_size=5) # n batches x c channels x h height x w width\n",
        "\n",
        "    # Instantiate your model and loss and optimizer functions\n",
        "    model = UNet() \n",
        "    model.cuda()\n",
        "\n",
        "    #Optimizer is the thing that takes the step to make the model better\n",
        "    objective = nn.CrossEntropyLoss() #MSE->classification prob...etc\n",
        "    optimizer = optim.Adam(model.parameters(), lr=1e-4)\n",
        "\n",
        "    gc.collect()\n",
        "    # print(torch.cuda.memory_allocated() / 1e9)\n",
        "    \n",
        "    # Get value\n",
        "    im_172_list = [] \n",
        "    im_172_x, im_172_y = val_dataset[172]\n",
        "    # pdb.set_trace()\n",
        "    torch.save(im_172_y, './saved/im_172_y.pt')\n",
        "    # Call your model, figure out loss and accuracy\n",
        "    for epoch in range(total_epochs):\n",
        "      if epoch == total_epochs:\n",
        "        save_model(model)\n",
        "        torch.save(im_172_list, './saved/im_172_list.pt')\n",
        "        return im_172_list, im_172_y\n",
        "\n",
        "      gc.collect()\n",
        "      \n",
        "      # to plot get rid of the dims we don't care about\n",
        "      \n",
        "      for batch, (x, y_truth) in enumerate(train_loader):\n",
        "        x, y_truth = x.cuda(), y_truth.cuda() \n",
        "\n",
        "        optimizer.zero_grad()\n",
        "        y_hat = model(x) \n",
        "\n",
        "\n",
        "        # Preprocess y_hat to be 0's and 1's (5, 1, 512, 512)\n",
        "        # argmax(y_hat, dim=0)\n",
        "\n",
        "        #(5, 2, 512, 512)      (5, 1, 512, 512)\n",
        "        # pdb.set_trace()\n",
        "        loss = objective(y_hat, y_truth.long()) \n",
        "        loss.backward() \n",
        "          \n",
        "        # Training set accuracy after each batch\n",
        "\n",
        "        # pdb.set_trace()\n",
        "        preds = torch.argmax(y_hat, dim=1) # Returns index of where max is \n",
        "        # preds = preds.indices.reshape((y_truth.shape)) # y_truth.shape = (5) not always though because batch size can differ\n",
        "        correct = preds == y_truth\n",
        "        # correct is (batch x val)\n",
        "        if batch % 100 == 0:\n",
        "          losses_train.append((len(losses_train), loss.item())) # store loss\n",
        "          accuracy_train.append((len(accuracy_train), torch.sum(correct).item() / (correct.shape[0] * correct.shape[1] * correct.shape[2])))\n",
        "        # pdb.set_trace()\n",
        "\n",
        "        #loop.set_description('epoch:{}, batch:{}, loss:{:.4f}, accuracy:{:.3f}'.format(epoch, batch, loss.item(), accuracy))\n",
        "        #loop.update(1)\n",
        "        optimizer.step() # Taking that step based on the gradient we computed\n",
        "\n",
        "        # Validation Loop - run it more than just every epoch\n",
        "        if batch % 100 == 0:\n",
        "          # this gives me all of the losses by passing in my x's and comparing them to my y's\n",
        "          # returns tensors so to get the first element in the tensor call item()\n",
        "          # then compute the mean of the losses\n",
        "\n",
        "          # Would work as well\n",
        "          # val = np.mean([objective(model(x.cuda()), y.long().cuda()).item()\n",
        "          #               for x, y in val_loader])\n",
        "          # losses_val.append((len(losses_val), val)) \n",
        "\n",
        "          # Calc Accuracy after each batch\n",
        "          loss = 0\n",
        "          accuracy = 0\n",
        "          with torch.no_grad():\n",
        "            model.eval()\n",
        "            # Calc IM 172\n",
        "            x = im_172_x.unsqueeze(0).cuda() # Get right dims\n",
        "            pred = model(x)\n",
        "            im_172_list.append(pred)\n",
        "\n",
        "            # Calc Validation Loss and Accuracy\n",
        "            correct = 0\n",
        "            total = 0\n",
        "            outputs = 0\n",
        "            loss_list = []\n",
        "            accuracy_list = []\n",
        "            for images, labels in val_loader:\n",
        "              images = images.cuda()\n",
        "              labels = labels.cuda()\n",
        "\n",
        "              outputs = model(images)\n",
        "\n",
        "              # calc loss and accuracy  for current batch\n",
        "              loss = loss_list.append(objective(model(images), labels.long()).item())\n",
        "\n",
        "              preds = torch.argmax(outputs, dim=1) # Returns index of where max is \n",
        "\n",
        "              # preds = preds.indices.reshape((y_truth.shape)) # y_truth.shape = (5) not always though because batch size can differ\n",
        "              correct = preds == y_truth\n",
        "              # correct is (batch x val)\n",
        "              accuracy_list.append(torch.sum(correct).item() / (correct.shape[0] * correct.shape[1] * correct.shape[2])) \n",
        "\n",
        "            # pdb.set_trace():\n",
        "            accuracy = np.mean(accuracy_list)\n",
        "            loss = np.mean(loss_list)\n",
        "            losses_val.append((len(losses_val), loss))\n",
        "            accuracy_val.append((len(accuracy_val), accuracy)) # Make first term be length of batches so it graphs good with the training accuracies\n",
        "          mem = torch.cuda.memory_allocated(0) / 1e9\n",
        "          # pdb.set_trace()\n",
        "          print('epoch:{}, batch:{}, loss:{:.4f}, accuracy:{:.3f}, mem:{:.3f}'.format(epoch, batch, loss.item(),100 * accuracy, mem))\n",
        "          model.train()\n",
        "        \n",
        "  except:\n",
        "    __ITB__() # prints out the excecption and traceback\n",
        "  return im_172_list, im_172_y\n",
        "    "
      ],
      "execution_count": null,
      "outputs": []
    },
    {
      "cell_type": "code",
      "metadata": {
        "colab": {
          "base_uri": "https://localhost:8080/"
        },
        "id": "g0GAiflbvpT8",
        "outputId": "15be5729-3142-4869-d243-5608df8e2c14"
      },
      "source": [
        "print(torch.cuda.memory_allocated(0) / 1e9) # In gigabytes"
      ],
      "execution_count": null,
      "outputs": [
        {
          "output_type": "stream",
          "name": "stdout",
          "text": [
            "1.848250368\n"
          ]
        }
      ]
    },
    {
      "cell_type": "code",
      "metadata": {
        "colab": {
          "base_uri": "https://localhost:8080/"
        },
        "id": "Snv1T428y7XG",
        "outputId": "d1f614c9-122d-4e3a-f2a2-573eb65d90cd"
      },
      "source": [
        "losses_val = []\n",
        "accuracy_val = []\n",
        "\n",
        "losses_train = []\n",
        "accuracy_train = []\n",
        "im_172_list = []\n",
        "im_172_y = None\n",
        "\n",
        "im172_backup, im172_y_backup = Cancer_Detector()"
      ],
      "execution_count": null,
      "outputs": [
        {
          "output_type": "stream",
          "name": "stdout",
          "text": [
            "epoch:0, batch:0, loss:0.7071, accuracy:1.466, mem:0.665\n",
            "epoch:0, batch:100, loss:0.3466, accuracy:85.043, mem:0.666\n",
            "epoch:0, batch:200, loss:0.3232, accuracy:98.158, mem:0.667\n",
            "epoch:1, batch:0, loss:0.2658, accuracy:82.873, mem:0.668\n",
            "epoch:1, batch:100, loss:0.2886, accuracy:77.935, mem:0.669\n",
            "epoch:1, batch:200, loss:0.2273, accuracy:83.700, mem:0.669\n",
            "epoch:2, batch:0, loss:0.2171, accuracy:84.753, mem:0.669\n",
            "epoch:2, batch:100, loss:0.2804, accuracy:90.191, mem:0.669\n",
            "epoch:2, batch:200, loss:0.2159, accuracy:75.682, mem:0.670\n",
            "epoch:3, batch:0, loss:0.2612, accuracy:76.045, mem:0.670\n",
            "epoch:3, batch:100, loss:0.2076, accuracy:84.411, mem:0.671\n",
            "epoch:3, batch:200, loss:0.2134, accuracy:70.932, mem:0.672\n",
            "epoch:4, batch:0, loss:0.2542, accuracy:83.252, mem:0.673\n",
            "epoch:4, batch:100, loss:0.1979, accuracy:90.329, mem:0.673\n",
            "epoch:4, batch:200, loss:0.2524, accuracy:59.595, mem:0.674\n",
            "epoch:5, batch:0, loss:0.2336, accuracy:48.439, mem:0.674\n",
            "epoch:5, batch:100, loss:0.2057, accuracy:81.534, mem:0.674\n",
            "epoch:5, batch:200, loss:0.1800, accuracy:91.848, mem:0.675\n",
            "epoch:6, batch:0, loss:0.1822, accuracy:65.403, mem:0.674\n",
            "epoch:6, batch:100, loss:0.1832, accuracy:74.812, mem:0.676\n",
            "epoch:6, batch:200, loss:0.1869, accuracy:86.047, mem:0.677\n",
            "epoch:7, batch:0, loss:0.2134, accuracy:84.220, mem:0.678\n",
            "epoch:7, batch:100, loss:0.1957, accuracy:85.052, mem:0.678\n",
            "epoch:7, batch:200, loss:0.1965, accuracy:75.232, mem:0.679\n"
          ]
        }
      ]
    },
    {
      "cell_type": "markdown",
      "metadata": {
        "id": "CZ062Jv1jIIu"
      },
      "source": [
        "\n",
        "___\n",
        "\n",
        "### Part 2\n",
        "\n",
        "Plot performance over time\n",
        "\n",
        "Please generate two plots:\n",
        "\n",
        " One that shows loss on the training and validation set as a function of training time. \n",
        "\n",
        " One that shows accuracy on the training and validation set as a function of training time. \n",
        "\n",
        " Make sure your axes are labeled!\n",
        "\n",
        "**TODO:**\n",
        "\n",
        "**DONE:**\n",
        "\n",
        "* Plot training/validation loss as function of training time (not epochs)\n",
        "* Plot training/validation accuracy as function of training time (not epochs)\n",
        "\n"
      ]
    },
    {
      "cell_type": "code",
      "metadata": {
        "colab": {
          "base_uri": "https://localhost:8080/",
          "height": 573
        },
        "id": "mTg1jyIsYVZN",
        "outputId": "4d961c59-2cd2-49b7-e182-073ade000b3e"
      },
      "source": [
        "# Plot training and validation loss for Xe initialization\n",
        "batch, values = zip(*losses_val)\n",
        "batch2, values2 = zip(*losses_train)\n",
        "\n",
        "plt.figure(1)\n",
        "plt.plot(batch2, values2, label='train')\n",
        "plt.plot(batch, values, label='val')\n",
        "plt.ylabel('Loss')\n",
        "plt.xlabel('Iterations')\n",
        "plt.title('Loss Over Time')\n",
        "plt.legend()\n",
        "\n",
        "# Plot training and validation accuracy for Xe initialization\n",
        "\n",
        "plt.figure(2)\n",
        "batch, values = zip(*accuracy_val)\n",
        "batch2, values2 = zip(*accuracy_train)\n",
        "\n",
        "plt.plot(batch2, values2, label='train')\n",
        "plt.plot(batch, values, label='val')\n",
        "plt.ylabel('Accuracy')\n",
        "plt.xlabel('Iterations')\n",
        "plt.title('Accuracy Over Time')\n",
        "plt.legend()\n",
        "plt.show()\n"
      ],
      "execution_count": null,
      "outputs": [
        {
          "output_type": "display_data",
          "data": {
            "image/png": "[encoded data removed]",
            "text/plain": [
              "<Figure size 432x288 with 1 Axes>"
            ]
          },
          "metadata": {
            "needs_background": "light"
          }
        },
        {
          "output_type": "display_data",
          "data": {
            "image/png": "[encoded data removed]",
            "text/plain": [
              "<Figure size 432x288 with 1 Axes>"
            ]
          },
          "metadata": {
            "needs_background": "light"
          }
        }
      ]
    },
    {
      "cell_type": "markdown",
      "metadata": {
        "nteract": {
          "transient": {
            "deleting": false
          }
        },
        "id": "6bSPo6pJ3V3z"
      },
      "source": [
        "**NOTE:**\n",
        "\n",
        "Guessing that the pixel is not cancerous every single time will give you an accuracy of ~ 85%.\n"
      ]
    },
    {
      "cell_type": "markdown",
      "metadata": {
        "id": "S4s92S2_jQOG"
      },
      "source": [
        "___\n",
        "\n",
        "### Part 3\n",
        "\n",
        "Generate at least 5 predictions on the pos_test_000072.png image and display them as images. These predictions should be made at a reasonable interval (e.g. every epoch). \n",
        "\n",
        "You can load this image from the file pos_test_000072.png, or you can get it from the dataset object. It is item 172 of the validation dataset.\n",
        "You can print both the data instance (x) and the ground-truth label (y_hat) to see how well your network predicts on that instance.\n",
        "\n",
        "To do this, calculate the output of your trained network on the pos_test_000072.png image,\n",
        "then make a hard decision (cancerous/not-cancerous) for each pixel.\n",
        "The resulting image should be black-and-white, where white pixels represent areas\n",
        "the network considers cancerous.\n",
        "\n"
      ]
    },
    {
      "cell_type": "code",
      "metadata": {
        "id": "XXfG3wClh8an",
        "pycharm": {
          "is_executing": false
        }
      },
      "source": [
        "# Save the model\n",
        "def save_model(model, path='./saved/unet.pt'):\n",
        "    torch.save(model.load_state_dict(), path)\n",
        "    return\n",
        "\n",
        "# Load the model\n",
        "def load_model(model, path='./saved/unet.pt'):\n",
        "    model.load_state_dict(torch.load(path))\n",
        "    model.eval() \n"
      ],
      "execution_count": null,
      "outputs": []
    },
    {
      "cell_type": "code",
      "metadata": {
        "id": "Sk0nStdIZJQM"
      },
      "source": [
        "list_copy = im172_backup.copy()"
      ],
      "execution_count": null,
      "outputs": []
    },
    {
      "cell_type": "code",
      "metadata": {
        "id": "MCevrrpZcpKv"
      },
      "source": [
        "im172_backup, im172_y_backup"
      ],
      "execution_count": null,
      "outputs": []
    },
    {
      "cell_type": "code",
      "metadata": {
        "id": "GGvGhx0SjT6B"
      },
      "source": [
        "im1 = list_copy[2]\n",
        "im2 = list_copy[5]\n",
        "im3 = list_copy[7]\n",
        "im4 = list_copy[10]\n",
        "im5 = list_copy[13]\n",
        "im7 = list_copy[23]"
      ],
      "execution_count": null,
      "outputs": []
    },
    {
      "cell_type": "code",
      "metadata": {
        "colab": {
          "base_uri": "https://localhost:8080/",
          "height": 336
        },
        "id": "5g8kFriBkf9R",
        "outputId": "8cc2e1b1-bc55-452c-a7d1-d905dff86d4b"
      },
      "source": [
        "print(im1.shape)\n",
        "im1 = im1.squeeze(0)\n",
        "print(im1.shape)\n",
        "im1 = im1.permute(1,2,0)\n",
        "# pdb.set_trace()\n",
        "\n",
        "im1 = torch.argmax(im1, dim=2)\n",
        "\n",
        "im1 = im1.cpu().numpy()\n",
        "\n",
        "print(im1.shape)\n",
        "plt.imshow(im1, cmap='binary')\n",
        "plt.title('Epoch = 1')\n",
        "plt.show()"
      ],
      "execution_count": null,
      "outputs": [
        {
          "output_type": "stream",
          "name": "stdout",
          "text": [
            "torch.Size([1, 2, 256, 256])\n",
            "torch.Size([2, 256, 256])\n",
            "(256, 256)\n"
          ]
        },
        {
          "output_type": "display_data",
          "data": {
            "image/png": "[encoded data removed]",
            "text/plain": [
              "<Figure size 432x288 with 1 Axes>"
            ]
          },
          "metadata": {
            "needs_background": "light"
          }
        }
      ]
    },
    {
      "cell_type": "code",
      "metadata": {
        "colab": {
          "base_uri": "https://localhost:8080/",
          "height": 281
        },
        "id": "H3u_pGcFi44p",
        "outputId": "0942f086-8b03-4af9-dc68-8b11ec07a13c"
      },
      "source": [
        "im2 = im2.squeeze(0)\n",
        "im2 = im2.permute(1,2,0)\n",
        "im2 = torch.argmax(im2, dim=2)\n",
        "im2 = im2.cpu().numpy()\n",
        "plt.imshow(im2, cmap='binary')\n",
        "plt.title('Epoch = 2')\n",
        "plt.show()"
      ],
      "execution_count": null,
      "outputs": [
        {
          "output_type": "display_data",
          "data": {
            "image/png": "[encoded data removed]",
            "text/plain": [
              "<Figure size 432x288 with 1 Axes>"
            ]
          },
          "metadata": {
            "needs_background": "light"
          }
        }
      ]
    },
    {
      "cell_type": "code",
      "metadata": {
        "colab": {
          "base_uri": "https://localhost:8080/",
          "height": 281
        },
        "id": "06dciHkjngKg",
        "outputId": "e6c96263-f189-41f4-d458-2e7e680ca8cd"
      },
      "source": [
        "im3 = im3.squeeze(0)\n",
        "im3 = im3.permute(1,2,0)\n",
        "im3 = torch.argmax(im3, dim=2)\n",
        "im3 = im3.cpu().numpy()\n",
        "plt.imshow(im3, cmap='binary')\n",
        "plt.title('Epoch = 3')\n",
        "plt.show()"
      ],
      "execution_count": null,
      "outputs": [
        {
          "output_type": "display_data",
          "data": {
            "image/png": "[encoded data removed]",
            "text/plain": [
              "<Figure size 432x288 with 1 Axes>"
            ]
          },
          "metadata": {
            "needs_background": "light"
          }
        }
      ]
    },
    {
      "cell_type": "code",
      "metadata": {
        "colab": {
          "base_uri": "https://localhost:8080/",
          "height": 281
        },
        "id": "zIrS2JKYnlJH",
        "outputId": "91a1ba39-171c-46c9-ca64-2365fb90c496"
      },
      "source": [
        "im4 = im4.squeeze(0)\n",
        "im4 = im4.permute(1,2,0)\n",
        "im4 = torch.argmax(im4, dim=2)\n",
        "im4 = im4.cpu().numpy()\n",
        "plt.imshow(im4, cmap='binary')\n",
        "plt.title('Epoch = 4')\n",
        "plt.show()"
      ],
      "execution_count": null,
      "outputs": [
        {
          "output_type": "display_data",
          "data": {
            "image/png": "[encoded data removed]",
            "text/plain": [
              "<Figure size 432x288 with 1 Axes>"
            ]
          },
          "metadata": {
            "needs_background": "light"
          }
        }
      ]
    },
    {
      "cell_type": "code",
      "metadata": {
        "colab": {
          "base_uri": "https://localhost:8080/",
          "height": 281
        },
        "id": "W61rvcj3nljZ",
        "outputId": "b3603a2a-40b0-444e-d895-7405a2c87fe7"
      },
      "source": [
        "im5 = im5.squeeze(0)\n",
        "im5 = im5.permute(1,2,0)\n",
        "im5 = torch.argmax(im5, dim=2)\n",
        "im5 = im5.cpu().numpy()\n",
        "plt.imshow(im5, cmap='binary')\n",
        "plt.title('Epoch = 5')\n",
        "plt.show()"
      ],
      "execution_count": null,
      "outputs": [
        {
          "output_type": "display_data",
          "data": {
            "image/png": "[encoded data removed]",
            "text/plain": [
              "<Figure size 432x288 with 1 Axes>"
            ]
          },
          "metadata": {
            "needs_background": "light"
          }
        }
      ]
    },
    {
      "cell_type": "code",
      "metadata": {
        "colab": {
          "base_uri": "https://localhost:8080/",
          "height": 281
        },
        "id": "b0XCMEfroHAd",
        "outputId": "fb05b8ac-5b7b-4113-da74-02fda96748f9"
      },
      "source": [
        "im7 = im7.squeeze(0)\n",
        "im7 = im7.permute(1,2,0)\n",
        "im7 = torch.argmax(im7, dim=2)\n",
        "im7 = im7.cpu().numpy()\n",
        "plt.imshow(im7, cmap='binary')\n",
        "plt.title('Epoch = 7')\n",
        "plt.show()"
      ],
      "execution_count": null,
      "outputs": [
        {
          "output_type": "display_data",
          "data": {
            "image/png": "[encoded data removed]",
            "text/plain": [
              "<Figure size 432x288 with 1 Axes>"
            ]
          },
          "metadata": {
            "needs_background": "light"
          }
        }
      ]
    },
    {
      "cell_type": "code",
      "metadata": {
        "colab": {
          "base_uri": "https://localhost:8080/",
          "height": 281
        },
        "id": "K_F8T2TujM6g",
        "outputId": "f5b4f6fa-be16-496b-ae38-357e84bc0cc9"
      },
      "source": [
        "im = torch.load('./saved/im_172_y.pt')\n",
        "plt.imshow(im, cmap='binary')\n",
        "plt.title('Ground Truth')\n",
        "plt.show()"
      ],
      "execution_count": null,
      "outputs": [
        {
          "output_type": "display_data",
          "data": {
            "image/png": "[encoded data removed]",
            "text/plain": [
              "<Figure size 432x288 with 1 Axes>"
            ]
          },
          "metadata": {
            "needs_background": "light"
          }
        }
      ]
    },
    {
      "cell_type": "markdown",
      "metadata": {
        "id": "hjQd2JONhfxv"
      },
      "source": [
        "###########################Notes"
      ]
    },
    {
      "cell_type": "code",
      "metadata": {
        "colab": {
          "base_uri": "https://localhost:8080/"
        },
        "id": "V-WaTA4BhhTH",
        "outputId": "0bdcf228-da48-488f-f321-b8c5a98e9fbc"
      },
      "source": [
        "# Number of Parameters in \n",
        "\n",
        "!pip -vvv install prettyTable\n",
        "from prettytable import PrettyTable\n",
        "\n",
        "def count_parameters(model):\n",
        "  table = PrettyTable([\"Modules\", \"Parameters\"])\n",
        "  total_params = 0\n",
        "  for name, parameter in model.named_parameters():\n",
        "    if not parameter.requires_grad: continue\n",
        "    param = parameter.numel() # returns the total number of elements in the input tensor\n",
        "    table.add_row([name, param])\n",
        "    total_params+=param\n",
        "  print(table)\n",
        "  print(f\"Total trainable params: {total_params}\")\n",
        "  return total_params\n",
        "\n",
        "test_model = UNet()\n",
        "\n",
        "count_parameters(test_model)"
      ],
      "execution_count": null,
      "outputs": [
        {
          "output_type": "stream",
          "name": "stdout",
          "text": [
            "Using pip 21.1.3 from /usr/local/lib/python3.7/dist-packages/pip (python 3.7)\n",
            "Value for scheme.platlib does not match. Please report this to <https://github.com/pypa/pip/issues/9617>\n",
            "distutils: /usr/local/lib/python3.7/dist-packages\n",
            "sysconfig: /usr/lib/python3.7/site-packages\n",
            "Value for scheme.purelib does not match. Please report this to <https://github.com/pypa/pip/issues/9617>\n",
            "distutils: /usr/local/lib/python3.7/dist-packages\n",
            "sysconfig: /usr/lib/python3.7/site-packages\n",
            "Value for scheme.headers does not match. Please report this to <https://github.com/pypa/pip/issues/9617>\n",
            "distutils: /usr/local/include/python3.7/UNKNOWN\n",
            "sysconfig: /usr/include/python3.7m/UNKNOWN\n",
            "Value for scheme.scripts does not match. Please report this to <https://github.com/pypa/pip/issues/9617>\n",
            "distutils: /usr/local/bin\n",
            "sysconfig: /usr/bin\n",
            "Value for scheme.data does not match. Please report this to <https://github.com/pypa/pip/issues/9617>\n",
            "distutils: /usr/local\n",
            "sysconfig: /usr\n",
            "Additional context:\n",
            "user = False\n",
            "home = None\n",
            "root = None\n",
            "prefix = None\n",
            "Non-user install because site-packages writeable\n",
            "Created temporary directory: /tmp/pip-ephem-wheel-cache-3wxq0oc5\n",
            "Created temporary directory: /tmp/pip-req-tracker-qyyoy7i2\n",
            "Initialized build tracking at /tmp/pip-req-tracker-qyyoy7i2\n",
            "Created build tracker: /tmp/pip-req-tracker-qyyoy7i2\n",
            "Entered build tracker: /tmp/pip-req-tracker-qyyoy7i2\n",
            "Created temporary directory: /tmp/pip-install-vrrzpe5_\n",
            "Requirement already satisfied: prettyTable in /usr/local/lib/python3.7/dist-packages (2.2.0)\n",
            "Requirement already satisfied: importlib-metadata in /usr/local/lib/python3.7/dist-packages (from prettyTable) (4.8.1)\n",
            "Requirement already satisfied: wcwidth in /usr/local/lib/python3.7/dist-packages (from prettyTable) (0.2.5)\n",
            "Requirement already satisfied: typing-extensions>=3.6.4 in /usr/local/lib/python3.7/dist-packages (from importlib-metadata->prettyTable) (3.7.4.3)\n",
            "Requirement already satisfied: zipp>=0.5 in /usr/local/lib/python3.7/dist-packages (from importlib-metadata->prettyTable) (3.5.0)\n",
            "Created temporary directory: /tmp/pip-unpack-mrkn09ch\n",
            "Value for scheme.platlib does not match. Please report this to <https://github.com/pypa/pip/issues/9617>\n",
            "distutils: /usr/local/lib/python3.7/dist-packages\n",
            "sysconfig: /usr/lib/python3.7/site-packages\n",
            "Value for scheme.purelib does not match. Please report this to <https://github.com/pypa/pip/issues/9617>\n",
            "distutils: /usr/local/lib/python3.7/dist-packages\n",
            "sysconfig: /usr/lib/python3.7/site-packages\n",
            "Value for scheme.headers does not match. Please report this to <https://github.com/pypa/pip/issues/9617>\n",
            "distutils: /usr/local/include/python3.7/UNKNOWN\n",
            "sysconfig: /usr/include/python3.7m/UNKNOWN\n",
            "Value for scheme.scripts does not match. Please report this to <https://github.com/pypa/pip/issues/9617>\n",
            "distutils: /usr/local/bin\n",
            "sysconfig: /usr/bin\n",
            "Value for scheme.data does not match. Please report this to <https://github.com/pypa/pip/issues/9617>\n",
            "distutils: /usr/local\n",
            "sysconfig: /usr\n",
            "Additional context:\n",
            "user = False\n",
            "home = None\n",
            "root = None\n",
            "prefix = None\n",
            "Removed build tracker: '/tmp/pip-req-tracker-qyyoy7i2'\n",
            "+----------------------+------------+\n",
            "|       Modules        | Parameters |\n",
            "+----------------------+------------+\n",
            "| dlayer1.conv1.weight |    1728    |\n",
            "|  dlayer1.conv1.bias  |     64     |\n",
            "| dlayer1.conv2.weight |   36864    |\n",
            "|  dlayer1.conv2.bias  |     64     |\n",
            "| dlayer2.conv1.weight |   73728    |\n",
            "|  dlayer2.conv1.bias  |    128     |\n",
            "| dlayer2.conv2.weight |   147456   |\n",
            "|  dlayer2.conv2.bias  |    128     |\n",
            "| dlayer3.conv1.weight |   294912   |\n",
            "|  dlayer3.conv1.bias  |    256     |\n",
            "| dlayer3.conv2.weight |   589824   |\n",
            "|  dlayer3.conv2.bias  |    256     |\n",
            "| dlayer4.conv1.weight |  1179648   |\n",
            "|  dlayer4.conv1.bias  |    512     |\n",
            "| dlayer4.conv2.weight |  2359296   |\n",
            "|  dlayer4.conv2.bias  |    512     |\n",
            "| dlayer5.conv1.weight |  4718592   |\n",
            "|  dlayer5.conv1.bias  |    1024    |\n",
            "| dlayer5.conv2.weight |  9437184   |\n",
            "|  dlayer5.conv2.bias  |    1024    |\n",
            "| ulayer4.conv1.weight |  4718592   |\n",
            "|  ulayer4.conv1.bias  |    512     |\n",
            "| ulayer4.conv2.weight |  2359296   |\n",
            "|  ulayer4.conv2.bias  |    512     |\n",
            "| ulayer3.conv1.weight |  1179648   |\n",
            "|  ulayer3.conv1.bias  |    256     |\n",
            "| ulayer3.conv2.weight |   589824   |\n",
            "|  ulayer3.conv2.bias  |    256     |\n",
            "| ulayer2.conv1.weight |   294912   |\n",
            "|  ulayer2.conv1.bias  |    128     |\n",
            "| ulayer2.conv2.weight |   147456   |\n",
            "|  ulayer2.conv2.bias  |    128     |\n",
            "| ulayer1.conv1.weight |   73728    |\n",
            "|  ulayer1.conv1.bias  |     64     |\n",
            "| ulayer1.conv2.weight |   36864    |\n",
            "|  ulayer1.conv2.bias  |     64     |\n",
            "|   out_layer.weight   |    128     |\n",
            "|    out_layer.bias    |     2      |\n",
            "|    upConv4.weight    |  2097152   |\n",
            "|     upConv4.bias     |    512     |\n",
            "|    upConv3.weight    |   524288   |\n",
            "|     upConv3.bias     |    256     |\n",
            "|    upConv2.weight    |   131072   |\n",
            "|     upConv2.bias     |    128     |\n",
            "|    upConv1.weight    |   32768    |\n",
            "|     upConv1.bias     |     64     |\n",
            "+----------------------+------------+\n",
            "Total trainable params: 31031810\n"
          ]
        },
        {
          "output_type": "execute_result",
          "data": {
            "text/plain": [
              "31031810"
            ]
          },
          "metadata": {},
          "execution_count": 41
        }
      ]
    }
  ]
}